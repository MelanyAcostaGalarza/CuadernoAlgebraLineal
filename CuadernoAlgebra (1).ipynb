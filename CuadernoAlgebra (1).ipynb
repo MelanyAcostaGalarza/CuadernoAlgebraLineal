{
  "nbformat": 4,
  "nbformat_minor": 0,
  "metadata": {
    "colab": {
      "provenance": [],
      "toc_visible": true
    },
    "kernelspec": {
      "name": "python3",
      "display_name": "Python 3"
    },
    "language_info": {
      "name": "python"
    }
  },
  "cells": [
    {
      "cell_type": "markdown",
      "source": [
        "# **Cuaderno Álgebra lineal**\n",
        "\n",
        "---\n",
        "\n",
        "\n",
        "\n",
        "---\n",
        "\n",
        "\n",
        "\n",
        "*Elaborado por Melany Acosta*"
      ],
      "metadata": {
        "id": "9UuIR933SCXi"
      }
    },
    {
      "cell_type": "markdown",
      "source": [
        "#MATRICES\n",
        "###**Definición de matriz**\n",
        "\n",
        "Una matriz de tamaño n x m es una estructura organizada en forma rectangular que contiene n x m elementos, los cuales pueden ser números reales o complejos. La matriz se compone de n filas horizontales y m columnas verticales.\n",
        "\n",
        "Podemos visualizar una matriz como un conjunto ordenado dispuesto en filas y columnas. Cada número que forma parte de la matriz se conoce como elemento, y se representa mediante la notación $(a_{ij})$, donde i representa el número de fila y j el número de columna en la que se encuentra el elemento en la matriz A.\n",
        "\n",
        "La dimensión de una matriz se determina por el número de filas y columnas que posee. Por ejemplo, si tenemos una matriz A con n filas y m columnas, podemos denotarla como $A_{n\\times m}$.\n",
        "\n",
        "\n",
        "$$ \\begin{equation} A_{n\\times m} =\n",
        "\\begin{pmatrix}\n",
        "a_{11} & a_{21} & \\cdots & a_{1m}\\\\\n",
        "a_{21} & a_{22} & \\cdots & a_{2m}\\\\\n",
        "\\vdots & \\vdots & \\ddots & \\vdots\\\\\n",
        "a_{n1} & a_{n2} & \\cdots & a_{nm}\n",
        "\\end{pmatrix}\n",
        "\\end{equation} $$\n",
        "\n",
        " "
      ],
      "metadata": {
        "id": "6LtVkCy5hb8V"
      }
    },
    {
      "cell_type": "code",
      "source": [
        "#En este ejemplo se hará una matriz de números aleatorios entre  (0,20) \n",
        "#nos pedirá el número de columnas y el número de renglones que queremos.\n",
        "#Importamos la libreria para poder generar los numeros aleatorios\n",
        "import random\n",
        "#Iportamos la libreria que da soporte para crear vectores y matrices grandes multidimensionales, \n",
        "#junto con una gran colección de funciones matemáticas de alto nivel para operar con ellas\n",
        "import numpy as np\n",
        "#pedimos el número de columnas y número de filas que queremos que tenga la matriz\n",
        "m = int(input('Dame el número de columnas m para la matriz: '))\n",
        "n = int(input('Dame el número de filas n  para la matriz: '))\n",
        "\n",
        "#Creamos nuestra matriz de nxm\n",
        "A=  np.zeros((n,m))\n",
        "for i in range(n):\n",
        "    for j in range(m):\n",
        "    #Damos el intervalo en el que pueden tomar valores cada elemento de la matriz.\n",
        "        A[i][j] = random.randint(0,20) \n",
        "        #Imprimimos la matriz creada anteriormente \n",
        "print(A)"
      ],
      "metadata": {
        "colab": {
          "base_uri": "https://localhost:8080/"
        },
        "id": "BmPpxDUkh0O5",
        "outputId": "2ea44141-b7fa-4356-8ce2-a3f0b736b39f"
      },
      "execution_count": null,
      "outputs": [
        {
          "output_type": "stream",
          "name": "stdout",
          "text": [
            "Dame el número de columnas m para la matriz: 2\n",
            "Dame el número de filas n  para la matriz: 2\n",
            "[[15.  6.]\n",
            " [19.  0.]]\n"
          ]
        }
      ]
    },
    {
      "cell_type": "markdown",
      "source": [
        "En la matriz anterior que denotamos $A$, podemos observar que es una matriz \n",
        "\n",
        "1.   Elemento de la lista\n",
        "2.   Elemento de la lista\n",
        "\n",
        "de dimensión $n \\times m$, en el siguiente ejemplo definiremos la matriz con valores fijos para su mejor análisis."
      ],
      "metadata": {
        "id": "V7qhnOeJiHDy"
      }
    },
    {
      "cell_type": "code",
      "source": [
        "#La matriz que daremos será la que se muestra en el texto siguiente\n",
        "\n",
        "#Imprimimos titulo de la matriz\n",
        "print(\"Matriz A de dimensión 2x3, :\")\n",
        "\n",
        "#Definimos la matriz como un arreglo\n",
        "A= np.array([[11,10,18],[17,18,1]])\n",
        "\n",
        "#Imprimimos la matriz que definimos \n",
        "print(A)"
      ],
      "metadata": {
        "colab": {
          "base_uri": "https://localhost:8080/"
        },
        "id": "IYLtL0WziMk_",
        "outputId": "d5ff176f-5c1d-4083-822f-029c833a511d"
      },
      "execution_count": null,
      "outputs": [
        {
          "output_type": "stream",
          "name": "stdout",
          "text": [
            "Matriz A de dimensión 2x3, :\n",
            "[[11 10 18]\n",
            " [17 18  1]]\n"
          ]
        }
      ]
    },
    {
      "cell_type": "markdown",
      "source": [
        "Es decir:\n",
        "\n",
        " $ \\begin{equation} A_{2\\times 3}=\n",
        "\\begin{pmatrix}\n",
        "11 & 10 & 18 \\\\\n",
        "17 & 18 & 1 \n",
        "\\end{pmatrix}\n",
        "\\end{equation}$"
      ],
      "metadata": {
        "id": "fIhJjlSqiROd"
      }
    },
    {
      "cell_type": "code",
      "source": [
        "#Obtendremos el elemento a11\n",
        "a11= A[0][0]\n",
        "print(\"El elemento a11 es:\")\n",
        "print(a11)"
      ],
      "metadata": {
        "colab": {
          "base_uri": "https://localhost:8080/"
        },
        "id": "TdXjrEjZiXU0",
        "outputId": "c5fe458c-7972-473f-fd60-52dc646d7048"
      },
      "execution_count": null,
      "outputs": [
        {
          "output_type": "stream",
          "name": "stdout",
          "text": [
            "El elemento a11 es:\n",
            "11\n"
          ]
        }
      ]
    },
    {
      "cell_type": "code",
      "source": [
        "#Obtenemos el elemento a2,2\n",
        "a22= A[1][1]\n",
        "print(\"El elemento a22 es:\")\n",
        "print(a22)"
      ],
      "metadata": {
        "colab": {
          "base_uri": "https://localhost:8080/"
        },
        "id": "VwNyZygsianE",
        "outputId": "bd6639f7-35dd-4bb2-824b-10cd82d8c06d"
      },
      "execution_count": null,
      "outputs": [
        {
          "output_type": "stream",
          "name": "stdout",
          "text": [
            "El elemento a22 es:\n",
            "18\n"
          ]
        }
      ]
    },
    {
      "cell_type": "markdown",
      "source": [
        "Dicho de otra manera, tenemos que:\n",
        "* $a_{11}$= 11\n",
        "* $a_{22}$= 18"
      ],
      "metadata": {
        "id": "j_7TXMosihW9"
      }
    },
    {
      "cell_type": "markdown",
      "source": [
        "##  **Tipos de matrices**\n",
        "\n",
        "Existen diversos tipos de matrices los cuáles dependen del tipo de elementos que la conforme así como también depende de la dimensión de la matriz, cabe mencionar que todas se pueden crear en jupyter con la paqueteria numpy.\n",
        "\n",
        "Algunas de las matrices que se conocen son las que se mencionan a continuación:\n",
        "### ***Matrices dependiendo el tipo de elementos***\n",
        "\n",
        "\n",
        "* **Matriz nula o matriz cero**: es aquella cuyos elementos son todos cero.\n",
        "La matriz nula $A_{m \\times n} = 0$ se representa de la siguiente manera:\n",
        "\\begin{bmatrix}\n",
        "0 & 0 & \\cdots & 0 \\\\\n",
        "0 & 0 & \\cdots & 0 \\\\\n",
        "\\vdots & \\vdots & \\ddots & \\vdots \\\\\n",
        "0 & 0 & \\cdots & 0\n",
        "\\end{bmatrix}"
      ],
      "metadata": {
        "id": "wFq3XtwRimaq"
      }
    },
    {
      "cell_type": "code",
      "source": [
        "filas = 3\n",
        "columnas = 3\n",
        "\n",
        "# Crear una matriz nula llena de ceros\n",
        "matriz_nula = [[0 for _ in range(columnas)] for _ in range(filas)]\n",
        "\n",
        "# Imprimir la matriz nula\n",
        "for fila in matriz_nula:\n",
        "    print(fila)"
      ],
      "metadata": {
        "colab": {
          "base_uri": "https://localhost:8080/"
        },
        "id": "sP2zjtswsUBR",
        "outputId": "d448373b-2d65-4db5-910e-a97f1d99a7c7"
      },
      "execution_count": null,
      "outputs": [
        {
          "output_type": "stream",
          "name": "stdout",
          "text": [
            "[0, 0, 0]\n",
            "[0, 0, 0]\n",
            "[0, 0, 0]\n"
          ]
        }
      ]
    },
    {
      "cell_type": "markdown",
      "source": [
        "* **Matriz identidad**: es aquella que cumple la propiedad de ser el elemento neutro del producto de matrices, es de $n \\times n$ y tiene como elementos el 1 en la diagonal (los elementos que forman parte de la diagonal son  $a_{11}$, $a_{22}$, $a_{33}$,...,$a_{nn}$) y cero en aquellos elementos que no pertenecen a la diagonal.\n",
        "Se veria asi:\n",
        "\\begin{bmatrix}1&0&0\\\\0&1&0\\\\0&0&1\\end{bmatrix}"
      ],
      "metadata": {
        "id": "qgtokOLvseX6"
      }
    },
    {
      "cell_type": "code",
      "source": [
        "n = 3  # Tamaño de la matriz identidad\n",
        "\n",
        "# Crear una matriz identidad\n",
        "matriz_identidad = [[1 if i == j else 0 for j in range(n)] for i in range(n)]\n",
        "\n",
        "# Imprimir la matriz identidad\n",
        "for fila in matriz_identidad:\n",
        "    print(fila)"
      ],
      "metadata": {
        "colab": {
          "base_uri": "https://localhost:8080/"
        },
        "id": "Zg_Os6qjsld0",
        "outputId": "575927a5-ecb2-49fe-a05b-abad33ca8f65"
      },
      "execution_count": null,
      "outputs": [
        {
          "output_type": "stream",
          "name": "stdout",
          "text": [
            "[1, 0, 0]\n",
            "[0, 1, 0]\n",
            "[0, 0, 1]\n"
          ]
        }
      ]
    },
    {
      "cell_type": "markdown",
      "source": [
        "* **Matriz diagonal**:  Una matriz se denomina diagonal si todos los elementos que no se encuentran sobre la diagonal son cero.\n",
        "Se veria asi:\n",
        "\\begin{bmatrix}0&0&0\\\\0&2&0\\\\0&0&1\\end{bmatrix}"
      ],
      "metadata": {
        "id": "_7hdtHRHtBkv"
      }
    },
    {
      "cell_type": "code",
      "source": [
        "import numpy as np\n",
        "# Definir los elementos de la diagonal\n",
        "diagonal_elements = [2, 2, 2, 3]\n",
        "# Crear la matriz diagonal\n",
        "matriz_diagonal = np.diag(diagonal_elements)\n",
        "print(matriz_diagonal)\n"
      ],
      "metadata": {
        "colab": {
          "base_uri": "https://localhost:8080/"
        },
        "id": "ZzSk-epUtT7W",
        "outputId": "8dc1dc9d-9b39-49a4-e0ff-b5113787286f"
      },
      "execution_count": null,
      "outputs": [
        {
          "output_type": "stream",
          "name": "stdout",
          "text": [
            "[[2 0 0 0]\n",
            " [0 2 0 0]\n",
            " [0 0 2 0]\n",
            " [0 0 0 3]]\n"
          ]
        }
      ]
    },
    {
      "cell_type": "markdown",
      "source": [
        "* **Matriz triangular superior**:  todas sus componentes abajo de la diagonal son cero y los que estan en la diagonal y por encima de esta son casi o todos distintos de cero.\n",
        "Se veria asi:\n",
        " \\begin{bmatrix}1&-2&0\\\\0&4&-5\\\\0&0&9\\end{bmatrix}"
      ],
      "metadata": {
        "id": "_8NYw4jytePv"
      }
    },
    {
      "cell_type": "code",
      "source": [
        "import numpy as np\n",
        "# Definir los elementos de la matriz triangular\n",
        "elementos = [[7, 8, 9],\n",
        "[0, 6, 5],\n",
        "[0, 0, 4]]\n",
        "# Crear la matriz triangular\n",
        "matriz_triangular = np.array(elementos)\n",
        "print(matriz_triangular)"
      ],
      "metadata": {
        "colab": {
          "base_uri": "https://localhost:8080/"
        },
        "id": "iRj1uxUjtnUb",
        "outputId": "1fdb422f-6ae8-401f-ea28-4c14fc3139c5"
      },
      "execution_count": null,
      "outputs": [
        {
          "output_type": "stream",
          "name": "stdout",
          "text": [
            "[[7 8 9]\n",
            " [0 6 5]\n",
            " [0 0 4]]\n"
          ]
        }
      ]
    },
    {
      "cell_type": "markdown",
      "source": [
        "* **Matriz triangular inferior**: Una matriz triangular inferior es una matriz cuadrada en la que todos los elementos por encima de la diagonal principal son ceros.\n",
        "Se veria asi:\n",
        "\\begin{bmatrix}4&0&0\\\\5&7&0\\\\2&9&3\\end{bmatrix}\n"
      ],
      "metadata": {
        "id": "sTZcaiusuGaU"
      }
    },
    {
      "cell_type": "code",
      "source": [
        "import numpy as np\n",
        "# Definir los elementos de la matriz triangular inferior\n",
        "elementos = [[2, 0, 0],\n",
        "[2, 2, 0],\n",
        "[3, 5, 6]]\n",
        "# Crear la matriz triangular inferior\n",
        "matriz_triangular_inferior = np.array(elementos)\n",
        "print(matriz_triangular_inferior)\n"
      ],
      "metadata": {
        "colab": {
          "base_uri": "https://localhost:8080/"
        },
        "id": "95bUS38gv3B-",
        "outputId": "8d688b45-f48a-4f7b-97bd-f0d3ff358c12"
      },
      "execution_count": null,
      "outputs": [
        {
          "output_type": "stream",
          "name": "stdout",
          "text": [
            "[[1 0 0]\n",
            " [2 3 0]\n",
            " [4 5 6]]\n"
          ]
        }
      ]
    },
    {
      "cell_type": "markdown",
      "source": [
        "* **Una matriz simétrica**: es aquella matriz cuadrada en la que los elementos en la posición (i, j) son iguales a los elementos en la posición (j, i) para todas las filas y columnas. En otras palabras, si reflejamos la matriz a lo largo de su diagonal principal, los elementos de la matriz original y la matriz reflejada son idénticos.\n",
        "\n",
        "En términos más simples, una matriz simétrica es aquella en la que los elementos son simétricos en relación a la diagonal principal. Por ejemplo:\n",
        "si $A$ = $A^T$ entonces A se llama simétrica\n",
        "\n",
        "\n",
        "A=        \\begin{bmatrix}1&2\\\\2&3\\end{bmatrix}\n",
        "\n",
        "A$^T$=        \\begin{bmatrix}1&2\\\\2&3\\end{bmatrix}\n",
        "\n",
        "$A$=$A^T$\n",
        "\n"
      ],
      "metadata": {
        "id": "gvkYBjOZhRiC"
      }
    },
    {
      "cell_type": "code",
      "source": [
        "import numpy as np\n",
        "# Definir los elementos de la matriz simétrica\n",
        "elementos = [[1, 2, 3],\n",
        "[2, 9, 7],\n",
        "[3, 7, 6]]\n",
        "# Crear la matriz simétrica\n",
        "matriz_simetrica = np.array(elementos)\n",
        "# Verificar si la matriz es simétrica\n",
        "es_simetrica = np.allclose(matriz_simetrica, matriz_simetrica.T)\n",
        "if es_simetrica: print(\"La matriz es simétrica\")\n",
        "else: print(\"La matriz no es simétrica\")\n",
        "print(matriz_simetrica)"
      ],
      "metadata": {
        "colab": {
          "base_uri": "https://localhost:8080/"
        },
        "id": "3PohcHomiM3a",
        "outputId": "b9b1be3d-29f0-4c1f-b7b1-e6643a0e5bed"
      },
      "execution_count": null,
      "outputs": [
        {
          "output_type": "stream",
          "name": "stdout",
          "text": [
            "La matriz es simétrica\n",
            "[[1 2 3]\n",
            " [2 9 7]\n",
            " [3 7 6]]\n"
          ]
        }
      ]
    },
    {
      "cell_type": "code",
      "source": [
        "# Crear la matriz simétrica 2x2\n",
        "matriz_simetrica = [[1, 8],\n",
        "                    [8, 3]]\n",
        "\n",
        "# Obtener la transpuesta de la matriz\n",
        "matriz_transpuesta = [[matriz_simetrica[j][i] for j in range(2)] for i in range(2)]\n",
        "\n",
        "# Imprimir la matriz original y su transpuesta\n",
        "print(\"Matriz original:\")\n",
        "for fila in matriz_simetrica:\n",
        "    print(fila)\n",
        "\n",
        "print(\"Matriz transpuesta:\")\n",
        "for fila in matriz_transpuesta:\n",
        "    print(fila)"
      ],
      "metadata": {
        "colab": {
          "base_uri": "https://localhost:8080/"
        },
        "id": "uWbQKl2-jTcA",
        "outputId": "819273e9-d3a7-4fd1-8b14-0c3e616659ee"
      },
      "execution_count": null,
      "outputs": [
        {
          "output_type": "stream",
          "name": "stdout",
          "text": [
            "Matriz original:\n",
            "[1, 8]\n",
            "[8, 3]\n",
            "Matriz transpuesta:\n",
            "[1, 8]\n",
            "[8, 3]\n"
          ]
        }
      ]
    },
    {
      "cell_type": "markdown",
      "source": [
        "* **Una matriz antisimétrica**: es una matriz cuadrada en la que los elementos fuera de la diagonal principal tienen un patrón de simetría: los elementos que están por encima de la diagonal son negativos de los elementos correspondientes por debajo de la diagonal. En otras palabras, si consideramos los elementos (i, j) y (j, i), con i ≠ j, el elemento (i, j) es el negativo del elemento (j, i). La diagonal principal de una matriz antisimétrica está compuesta por ceros (0)."
      ],
      "metadata": {
        "id": "k82DrD1ejgnQ"
      }
    },
    {
      "cell_type": "code",
      "source": [
        "# Crear una matriz antisimétrica 3x3\n",
        "matriz_antisimetrica = [[0, 1, -2],\n",
        "                        [-1, 0, 3],\n",
        "                        [2, -3, 0]]\n",
        "\n",
        "# Verificar si la matriz es antisimétrica\n",
        "es_antisimetrica = True\n",
        "for i in range(3):\n",
        "    for j in range(3):\n",
        "        if matriz_antisimetrica[i][j] != -matriz_antisimetrica[j][i]:\n",
        "            es_antisimetrica = False\n",
        "            break\n",
        "\n",
        "# Imprimir la matriz y verificar si es antisimétrica\n",
        "print(\"Matriz:\")\n",
        "for fila in matriz_antisimetrica:\n",
        "    print(fila)\n",
        "\n",
        "if es_antisimetrica:\n",
        "    print(\"La matriz es antisimétrica.\")\n",
        "else:\n",
        "    print(\"La matriz no es antisimétrica.\")"
      ],
      "metadata": {
        "colab": {
          "base_uri": "https://localhost:8080/"
        },
        "id": "nquvbnW1kG61",
        "outputId": "8ac26115-0608-4616-d918-d24b4d2d89ec"
      },
      "execution_count": null,
      "outputs": [
        {
          "output_type": "stream",
          "name": "stdout",
          "text": [
            "Matriz:\n",
            "[0, 1, -2]\n",
            "[-1, 0, 3]\n",
            "[2, -3, 0]\n",
            "La matriz es antisimétrica.\n"
          ]
        }
      ]
    },
    {
      "cell_type": "markdown",
      "source": [
        "**Generar una matriz trangular superior*"
      ],
      "metadata": {
        "id": "dD6cIKzwkUDW"
      }
    },
    {
      "cell_type": "code",
      "source": [
        "import numpy as np\n",
        "# Generar dos matrices diagonales aleatorias\n",
        "diagonal_a = np.diag(np.random.randint(1, 10, size=5))\n",
        "diagonal_b = np.diag(np.random.randint(1, 10, size=5))\n",
        "# Calcular el producto de las matrices diagonales\n",
        "producto = np.dot(diagonal_a, diagonal_b)\n",
        "print(\"Matriz A:\")\n",
        "print(diagonal_a)\n",
        "print(\"Matriz B:\")\n",
        "print(diagonal_b)\n",
        "print(\"Producto de las matrices:\")\n",
        "print(producto)\n",
        "# Verificar si el producto es una matriz triangular superior\n",
        "es_triangular_superior = np.allclose(np.triu(producto), producto)\n",
        "print(\"Es una matriz triangular superior:\", es_triangular_superior)"
      ],
      "metadata": {
        "colab": {
          "base_uri": "https://localhost:8080/"
        },
        "id": "PCf1JsJUkn-f",
        "outputId": "375528d9-4674-4d76-f266-37ebd23deaa8"
      },
      "execution_count": null,
      "outputs": [
        {
          "output_type": "stream",
          "name": "stdout",
          "text": [
            "Matriz A:\n",
            "[[4 0 0 0 0]\n",
            " [0 8 0 0 0]\n",
            " [0 0 9 0 0]\n",
            " [0 0 0 9 0]\n",
            " [0 0 0 0 5]]\n",
            "Matriz B:\n",
            "[[4 0 0 0 0]\n",
            " [0 4 0 0 0]\n",
            " [0 0 5 0 0]\n",
            " [0 0 0 1 0]\n",
            " [0 0 0 0 7]]\n",
            "Producto de las matrices:\n",
            "[[16  0  0  0  0]\n",
            " [ 0 32  0  0  0]\n",
            " [ 0  0 45  0  0]\n",
            " [ 0  0  0  9  0]\n",
            " [ 0  0  0  0 35]]\n",
            "Es una matriz triangular superior: True\n"
          ]
        }
      ]
    },
    {
      "cell_type": "markdown",
      "source": [
        "**Comprobar si es nula o no*"
      ],
      "metadata": {
        "id": "QtCFi3_kksuN"
      }
    },
    {
      "cell_type": "code",
      "source": [
        "import numpy as np\n",
        "# Definir una matriz aleatoria\n",
        "matriz = np.random.randint(-5, 5, size=(3, 3))\n",
        "# Verificar si la matriz es nula\n",
        "es_nula = np.all(matriz == 0)\n",
        "print(\"Matriz:\")\n",
        "print(matriz)\n",
        "print(\"Es una matriz nula:\", es_nula)"
      ],
      "metadata": {
        "colab": {
          "base_uri": "https://localhost:8080/"
        },
        "id": "8Jd6SdYTkxWG",
        "outputId": "2422b164-4c4a-4032-b0f4-7cd19f45384a"
      },
      "execution_count": null,
      "outputs": [
        {
          "output_type": "stream",
          "name": "stdout",
          "text": [
            "Matriz:\n",
            "[[ 1 -1 -5]\n",
            " [-5 -2  2]\n",
            " [ 3 -1  4]]\n",
            "Es una matriz nula: False\n"
          ]
        }
      ]
    },
    {
      "cell_type": "markdown",
      "source": [
        "**Comprobar si es matriz identidad o no*"
      ],
      "metadata": {
        "id": "GraBJ5MvlDz9"
      }
    },
    {
      "cell_type": "code",
      "source": [
        "import numpy as np\n",
        "# Definir el tamaño de la matriz cuadrada\n",
        "n = 4\n",
        "# Generar una matriz cuadrada aleatoria\n",
        "matriz = np.random.randint(0, 2, size=(n, n))\n",
        "# Verificar si la matriz es una matriz identidad\n",
        "es_identidad = np.array_equal(matriz, np.eye(n))\n",
        "print(\"Matriz:\")\n",
        "print(matriz)\n",
        "print(\"Es una matriz identidad:\", es_identidad)"
      ],
      "metadata": {
        "colab": {
          "base_uri": "https://localhost:8080/"
        },
        "id": "wk-uYPzmlPwF",
        "outputId": "6fb0afa8-cb04-4a3e-8846-cf6a55edf3c0"
      },
      "execution_count": null,
      "outputs": [
        {
          "output_type": "stream",
          "name": "stdout",
          "text": [
            "Matriz:\n",
            "[[0 0 1 1]\n",
            " [1 0 0 1]\n",
            " [1 0 0 1]\n",
            " [0 1 1 1]]\n",
            "Es una matriz identidad: False\n"
          ]
        }
      ]
    },
    {
      "cell_type": "markdown",
      "source": [
        "**Comprobar si es diagonal o no*"
      ],
      "metadata": {
        "id": "YQw15ZXPlWKL"
      }
    },
    {
      "cell_type": "code",
      "source": [
        "import numpy as np\n",
        "# Definir el tamaño de la matriz cuadrada\n",
        "n = 4\n",
        "# Generar una matriz cuadrada aleatoria\n",
        "matriz = np.random.randint(1, 10, size=(n, n))\n",
        "# Verificar si la matriz es una matriz diagonal\n",
        "es_diagonal = np.array_equal(matriz, np.diag(np.diagonal(matriz)))\n",
        "print(\"Matriz:\")\n",
        "print(matriz)\n",
        "print(\"Es una matriz diagonal:\", es_diagonal)\n"
      ],
      "metadata": {
        "colab": {
          "base_uri": "https://localhost:8080/"
        },
        "id": "2PN2vNyTlaXy",
        "outputId": "2866ab77-48ea-4cff-b51d-07327caa4cad"
      },
      "execution_count": null,
      "outputs": [
        {
          "output_type": "stream",
          "name": "stdout",
          "text": [
            "Matriz:\n",
            "[[7 2 8 3]\n",
            " [6 3 6 5]\n",
            " [9 4 7 6]\n",
            " [5 7 2 6]]\n",
            "Es una matriz diagonal: False\n"
          ]
        }
      ]
    },
    {
      "cell_type": "markdown",
      "source": [
        "## **Operaciones elementales de fila**\n",
        "Se enfoca nuestra atención a una matriz  Am×n:\n",
        "1. Multiplicación de un escalar por una fila: Se multiplica un escalar  k  por la fila  i  de la matriz  A  y se obtiene una nueva matriz  B . La operación se representa como  B=k⋅Ai .\n",
        "\n",
        "2. Reemplazar la enésima fila de  A  por la fila  r+c  veces la fila  S , donde  S  ≠  r :\n",
        "\n",
        "3. Intercambio de filas: Se intercambian las filas  i  y  j  de la matriz  A  y se obtiene una nueva matriz  B . La operación se representa como  B=Ai↔Aj ."
      ],
      "metadata": {
        "id": "ozZFWW8om-g6"
      }
    },
    {
      "cell_type": "markdown",
      "source": [
        "* **Matriz reducida**: se llama matriz reducida escalón por filas ssi :\n",
        "a) R es reducida\n",
        "b) Toda fila de R que tiene todos sus elementos ceros c (fila nula) está debajo de todlas las filas no nulas\n",
        "c) Si las filas 1,2.....,r son las\n",
        "filas no nulas de R y si el primer elemento no cero de la fila i esta en\n",
        "la columna Ki,i=1,2,...,r entonces K1< K2<...< Kr\n",
        "\n",
        "*A->B1->B2->...->B->R*"
      ],
      "metadata": {
        "id": "r1aL-061ofoN"
      }
    },
    {
      "cell_type": "markdown",
      "source": [
        "##**Operaciones entre matrices**\n",
        "### **Suma  y Resta de matrices** \n",
        "\n",
        "Para llevar a cabo estas operaciones es importante verificar que las matrices con las que se trabajará tengan el mismo orden, también es importante saber que se obtendrá como resultado una matriz con exactamente ese orden al realizar las operaciones.\n",
        "\n",
        "La suma o resta se lleva a cabo elemento por elemento, por ejemplo, sean A y B dos matrices que deseamos sumar, entonces se obtendrá una nueva matriz C cuyos elementos serán: $c_{ij}$=$a_{ij}+b_{ij}$, para hacer la resta solo le aplica la operación correspondiente.\n",
        "\n",
        "De manera gráfica, podemos verlo de la siguiente manera para la suma:\n",
        "\n",
        "$$ \\begin{equation} A_{n\\times m} = \n",
        "\\begin{pmatrix}\n",
        "a_{11} & a_{12} & \\cdots & a_{1m}\\\\\n",
        "a_{21} & a_{22} & \\cdots & a_{2m}\\\\\n",
        "\\vdots & \\vdots & \\ddots & \\vdots\\\\\n",
        "a_{n1} & a_{n2} & \\cdots & a_{nm}\n",
        "\\end{pmatrix}\n",
        "\\end{equation} $$\n",
        "\n",
        "$$ \\begin{equation} B_{n\\times m} = \n",
        "\\begin{pmatrix}\n",
        "b_{11} & b_{12} & \\cdots & b_{1m}\\\\\n",
        "b_{21} & b_{22} & \\cdots & b_{2m}\\\\\n",
        "\\vdots & \\vdots & \\ddots & \\vdots\\\\\n",
        "b_{n1} & b_{n2} & \\cdots & b_{nm}\n",
        "\\end{pmatrix}\n",
        "\\end{equation}$$\n",
        "\n",
        "$$ \\begin{equation} C=A+B =\n",
        "\\begin{pmatrix}\n",
        "a_{11}+b_{11} & a_{12}+b_{12} & \\cdots & a_{1m}+b_{1m}\\\\\n",
        "a_{21}+b_{21} & a_{22}+b_{22} & \\cdots & a_{2m}+ b_{2m}\\\\\n",
        "\\vdots & \\vdots & \\ddots & \\vdots\\\\\n",
        "a_{n1}+b_{n1} & a_{n2}+b_{n2} & \\cdots & a_{nm}+b_{nm}\n",
        "\\end{pmatrix}\n",
        "\\end{equation}$$\n"
      ],
      "metadata": {
        "id": "P9pm8yBxqMlr"
      }
    },
    {
      "cell_type": "code",
      "source": [
        "#Ejemplo de suma de matrices \n",
        "print(\"Recuerde que las matrices a sumar deben tener el mismo número de filas entre ellas y el mismo número de renglones\")\n",
        "\n",
        "#Pedimos que nos de el número de filas y columnas que tienen las matrices\n",
        "filas = int(input (\"Indique el número de filas: \"))\n",
        "columnas = int(input (\"Indique el número de columnas: \"))\n",
        "\n",
        "#Creamos las matrices en las que se guardarán los valores que el usuario proporcione y los de la suma\n",
        "matriz1 = np.zeros((filas,columnas))\n",
        "matriz2 = np.zeros((filas,columnas))\n",
        "\n",
        "#Pedimos que ingrese la primer matriz elemento por elemento y vamos llenando\n",
        "print ('Ingrese la primer matriz')\n",
        "\n",
        "for i in range(filas):\n",
        "\t\tfor j in range(columnas):\n",
        "\t\t\tmatriz1[i][j] = float(input('Elemento (%d,%d): ' % (i, j)))\n",
        "\t \n",
        "print( \"su primer matriz es:\")\n",
        "print(matriz1)\n",
        "\n",
        "#Le pedimos que ingrese la segunda matriz elemento por elemento y vamos llenando           \n",
        "print ('Ingrese la segunda matriz')\n",
        "for i in range(filas):\n",
        "\tfor j in range(columnas):\n",
        "\t\t\tmatriz2[i][j] = float(input('Elemento (%d,%d): ' % (i, j)))\n",
        "\t \n",
        "print(\"su segunda matriz es:\")\n",
        "print( matriz2)\n",
        "\n",
        "#Realizamos la suma de las matrices que nos proporciono y la imprimimos \n",
        "matriz3= matriz1+matriz2\n",
        "print ('La suma de las matrices es:')\n",
        "print (matriz3)"
      ],
      "metadata": {
        "colab": {
          "base_uri": "https://localhost:8080/"
        },
        "id": "iLrA9mvrjpmZ",
        "outputId": "637b76e2-48f4-4b10-a576-e0de8e5a84dc"
      },
      "execution_count": null,
      "outputs": [
        {
          "output_type": "stream",
          "name": "stdout",
          "text": [
            "Recuerde que las matrices a sumar deben tener el mismo número de filas entre ellas y el mismo número de renglones\n",
            "Indique el número de filas: 3\n",
            "Indique el número de columnas: 2\n",
            "Ingrese la primer matriz\n",
            "Elemento (0,0): 5\n",
            "Elemento (0,1): 4\n",
            "Elemento (1,0): 6\n",
            "Elemento (1,1): 1\n",
            "Elemento (2,0): 3\n",
            "Elemento (2,1): 8\n",
            "su primer matriz es:\n",
            "[[5. 4.]\n",
            " [6. 1.]\n",
            " [3. 8.]]\n",
            "Ingrese la segunda matriz\n",
            "Elemento (0,0): 8\n",
            "Elemento (0,1): 2\n",
            "Elemento (1,0): 3\n",
            "Elemento (1,1): 9\n",
            "Elemento (2,0): 1\n",
            "Elemento (2,1): 7\n",
            "su segunda matriz es:\n",
            "[[8. 2.]\n",
            " [3. 9.]\n",
            " [1. 7.]]\n",
            "La suma de las matrices es:\n",
            "[[13.  6.]\n",
            " [ 9. 10.]\n",
            " [ 4. 15.]]\n"
          ]
        }
      ]
    },
    {
      "cell_type": "markdown",
      "source": [
        "De lo anterior se puede observar como el elemento $(1,1)$ de nuestra nueva matriz es la suma del elemento $(1,1)$ de las dos matrices que introdujimos inicialmente.\n",
        "\n",
        "Cabe destacar que en esta operación con matrices se mantiene la asociatividad, conmutatividad, el elemento neutro que seria la matriz cuyas entradas son todas cero y por último el elemento opuesto el cuál si tenemos la matriz $A$, el elemento opuesto  sería $-A$  que es una matriz cuyos elementos son los opuestos a $A$.\n",
        "### **Escalar por una matriz**\n",
        "\n",
        "En este caso lo que se hace es multiplicar un número escalar por la matriz, es decir $\\tau$*$A_{n\\times m}$ y el resultado será una matriz del mismo orden pero con cada uno de sus elementos múltiplicado por el escalar,es decir: \n",
        "\n",
        "\n",
        "  $$\\begin{equation} \\tau*A_{n\\times m}=\n",
        "\\begin{pmatrix}\n",
        "\\tau*a_{11} & \\tau*a_{12} & \\cdots & \\tau*a_{1m}\\\\\n",
        "\\tau*a_{21} & \\tau*a_{12} & \\cdots & \\tau*a_{2m}\\\\\n",
        "\\vdots & \\vdots & \\ddots & \\vdots\\\\\n",
        "\\tau*a_{n1} & \\tau*a_{n2} & \\cdots & \\tau*a_{nm}\n",
        "\\end{pmatrix}\n",
        "\\end{equation}$$\n",
        "\n",
        "Cabe mencionar que esta operación es distributiva respecto a la suma de escalares y a la suma de matrices, además es conmutativa y asociativa respecto al producto punto de escalares.\n",
        "A continuación se muestra un ejemplo de esta operación."
      ],
      "metadata": {
        "id": "ukGlDb0GkK2Y"
      }
    },
    {
      "cell_type": "code",
      "source": [
        "#Pedimos que nos de el número de filas y columnas que tienen las matrices\n",
        "filas = int(input (\"Indique el número de filas: \"))\n",
        "columnas = int(input (\"Indique el número de columnas: \"))\n",
        "\n",
        "#Creamos las matrices en las que se guardarán los valores que el usuario proporcione y los de la suma\n",
        "matriz1 = np.zeros((filas,columnas))\n",
        "\n",
        "#Le pedimos que ingrese la primer matriz elemento por elemento y vamos llenando\n",
        "print ('Ingrese la  matriz')\n",
        "for i in range(filas):\n",
        "        for j in range(columnas):\n",
        "            matriz1[i][j] = float(input('Elemento (%d,%d): ' % (i, j)))\n",
        "\n",
        "print( \"su matriz es:\")\n",
        "print(matriz1)\n",
        "\n",
        "#Le pedimos que ingrese el escalar por el que se multiplicara           \n",
        "l= int(input('Dame el número por el que multiplicarás la matriz'))\n",
        "#Realizamos la multiplicación de la matricez que nos proporciono por el escalar y la imprimimos \n",
        "matriz2= matriz1*l\n",
        "\n",
        "#Pedimos que nos imprima el resultado de la operación \n",
        "print ('La matriz multiplicada por el escalar es:')\n",
        "print (matriz2)"
      ],
      "metadata": {
        "colab": {
          "base_uri": "https://localhost:8080/"
        },
        "id": "kNDtFkN4krEc",
        "outputId": "de9ec657-18b3-45c5-8030-7400d4a4e599"
      },
      "execution_count": null,
      "outputs": [
        {
          "output_type": "stream",
          "name": "stdout",
          "text": [
            "Indique el número de filas: 2\n",
            "Indique el número de columnas: 3\n",
            "Ingrese la  matriz\n",
            "Elemento (0,0): 5\n",
            "Elemento (0,1): 4\n",
            "Elemento (0,2): 2\n",
            "Elemento (1,0): 3\n",
            "Elemento (1,1): 9\n",
            "Elemento (1,2): 7\n",
            "su matriz es:\n",
            "[[5. 4. 2.]\n",
            " [3. 9. 7.]]\n",
            "Dame el número por el que multiplicarás la matriz5\n",
            "La matriz multiplicada por el escalar es:\n",
            "[[25. 20. 10.]\n",
            " [15. 45. 35.]]\n"
          ]
        }
      ]
    },
    {
      "cell_type": "markdown",
      "source": [
        "### **Producto de un vector por una matriz**\n",
        "\n",
        "Si tenemos una matriz $A_{n\\times m}$ y queremos obtener el producto de esta matriz con un vector, lo primero que se debe verificar es que el número de columnas de la matriz coincida con el número de filas del vector, el resultado de esto nos dara una nueva matriz $C_{n\\times 1}$.\n",
        "\n",
        "Los elementos que conformarán esta nueva matriz serán el resultado de sumar los productos de los elementos de la fila i por el vector, es decir:\n",
        "\n",
        "Sea la matriz:\n",
        "\n",
        " $$ \\begin{equation}  A_{n\\times m} =\n",
        "\\begin{pmatrix}\n",
        "a_{11} & a_{12} & \\cdots & a_{1m}\\\\\n",
        "a_{21} & a_{12} & \\cdots & a_{2m}\\\\\n",
        "\\vdots & \\vdots & \\ddots & \\vdots\\\\\n",
        "a_{n1} & a_{n2} & \\cdots & a_{nm}\n",
        "\\end{pmatrix}\n",
        "\\end{equation}$$\n",
        "\n",
        "Definiremos el vector:\n",
        "\n",
        "  $$\\begin{equation}  V_{m\\times 1} =\n",
        "\\begin{pmatrix}\n",
        "v_{11} \\\\\n",
        "v_{21} \\\\\n",
        "\\vdots \\\\\n",
        "v_{m1} \n",
        "\\end{pmatrix}\n",
        "\\end{equation}$$\n",
        "\n",
        "\n",
        "Entonces el producto de estos será la nueva matriz $C_{nx1}$ cuyas entradas serán:\n",
        "\n",
        " \n",
        "$$\n",
        "\\begin{equation}\n",
        "  C_{i1} = \\sum_{k} (a_{ik}*v_{k,1})\n",
        "\\end{equation}$$"
      ],
      "metadata": {
        "id": "Kl55qWnhlT4E"
      }
    },
    {
      "cell_type": "code",
      "source": [
        "#Primero pedimos que  nos den la matriz\n",
        "filas1 = int(input (\"Indique el número de filas de la matriz: \"))\n",
        "columnas1 = int(input (\"Indique el número de columnas de la matriz: \"))\n",
        "columnas2 = 1\n",
        "\n",
        "#Creamos la matriz en la que se guardarán los valores que el usuario proporcione\n",
        "A = np.zeros((filas1,columnas1))    \n",
        "B = np.zeros((columnas1,columnas2))   \n",
        " #Llenamos la matriz con los datos del usuario\n",
        "print (\"Ingrese la primer matriz\")\n",
        "\n",
        "for i in range(filas1):\n",
        "        for j in range(columnas1):\n",
        "            A[i][j] = float(input('Elemento (%d,%d): ' % (i, j)))\n",
        "print( \"su matriz es:\")\n",
        "print(A)\n",
        "#llenamos el vector\n",
        "print (\"Ingrese el vector\")\n",
        "for i in range(columnas1):\n",
        "        for j in range(columnas2):\n",
        "            B[i][j] = float(input('Elemento (%d,%d): ' % (i, j)))\n",
        "print( \"su vector es:\")\n",
        "print(B)\n",
        "\n",
        "\n",
        "C = A.dot(B)\n",
        "print(\"El producto de la matriz con el vector es:\")\n",
        "    \n",
        "print (C)\n"
      ],
      "metadata": {
        "colab": {
          "base_uri": "https://localhost:8080/"
        },
        "id": "1TP7F0CHlXjb",
        "outputId": "2001a156-1ed7-457b-de99-1b423b4e16a2"
      },
      "execution_count": null,
      "outputs": [
        {
          "output_type": "stream",
          "name": "stdout",
          "text": [
            "Indique el número de filas de la matriz: 3\n",
            "Indique el número de columnas de la matriz: 4\n",
            "Ingrese la primer matriz\n",
            "Elemento (0,0): 5\n",
            "Elemento (0,1): 1\n",
            "Elemento (0,2): 3\n",
            "Elemento (0,3): 0\n",
            "Elemento (1,0): 5\n",
            "Elemento (1,1): 9\n",
            "Elemento (1,2): 7\n",
            "Elemento (1,3): 4\n",
            "Elemento (2,0): 5\n",
            "Elemento (2,1): 6\n",
            "Elemento (2,2): 7\n",
            "Elemento (2,3): 8\n",
            "su matriz es:\n",
            "[[5. 1. 3. 0.]\n",
            " [5. 9. 7. 4.]\n",
            " [5. 6. 7. 8.]]\n",
            "Ingrese el vector\n",
            "Elemento (0,0): 3\n",
            "Elemento (1,0): 2\n",
            "Elemento (2,0): 8\n",
            "Elemento (3,0): 1\n",
            "su vector es:\n",
            "[[3.]\n",
            " [2.]\n",
            " [8.]\n",
            " [1.]]\n",
            "El producto de la matriz con el vector es:\n",
            "[[41.]\n",
            " [93.]\n",
            " [91.]]\n"
          ]
        }
      ]
    },
    {
      "cell_type": "markdown",
      "source": [
        "### **Producto de Matrices**\n",
        "\n",
        "Si tenemos una matriz $A_{n\\times m}$ y queremos obtener el producto de esta matriz con una $B_{m\\times l}$, lo primero que se debe verificar es que el número de columnas de la matriz $A$ coincida con el número de filas de la matriz $B$, el resultado de esto nos dara una nueva matriz $C_{n\\times l}$.\n",
        "\n",
        "Los elementos que conformarán esta nueva matriz serán el resultado de sumar los productos de los elementos de la fila $i$ por la columna $j$, es decir:\n",
        "\n",
        "$$\\begin{equation}\n",
        "  C_{ij} = \\sum_{k} (a_{ik}*b_{k,j})\n",
        "\\end{equation}$$\n",
        "\n",
        "por ejemplo si tenemos las siguientes matrices:\n",
        "\n",
        "\n",
        "$$ \\begin{equation} A_{2\\times 3}=\n",
        "\\begin{pmatrix}\n",
        "2 & 3 & 1 \\\\\n",
        "0 & -1 & -2 \n",
        "\\end{pmatrix}\n",
        "\\end{equation}$$\n",
        "\n",
        "\n",
        "$$ \\begin{equation} B_{3 \\times 2}=\n",
        "\\begin{pmatrix}\n",
        " 1 & 0 \\\\\n",
        "-1 & 2  \\\\\n",
        "-2 & 3\n",
        "\\end{pmatrix}\n",
        "\\end{equation}$$\n",
        "\n",
        "\n",
        "$$\\begin{equation} C_{2 \\times 2}=\n",
        "\\begin{pmatrix}\n",
        " (2*1)+(-1*3)+(-2*1)   & (0*2)+(2*3) +(3*1) \\\\\n",
        " (1*0)+(-1*-1)+(-2*-2) & (0*0)+(2*-1)+(3*-2)\n",
        "\\end{pmatrix}\n",
        "\\end{equation}$$\n",
        "\n",
        "\n",
        "\n",
        "$$\\begin{equation} =\n",
        "\\begin{pmatrix}\n",
        " -3 & 9 \\\\\n",
        "  5 & -8\n",
        " \\end{pmatrix}\n",
        " \\end{equation}$$\n",
        " \n",
        " \n",
        " Esta operación cumple con la asociatividad, es distributiva respecto a la suma de matrices, no siempre es conmutativo, y  si $AB=AC$  no necesariamente se cumple que $B=C$."
      ],
      "metadata": {
        "id": "uKP4pBO0lris"
      }
    },
    {
      "cell_type": "code",
      "source": [
        "#Primero pedimos que se nos den las matrices \n",
        "print(\"recuerde que el numero de columnas de la segunda matriz debe ser igual al número de columnas de la primer matriz\")\n",
        "filas1 = int(input (\"Indique el número de filas de la primer matriz: \"))\n",
        "columnas1 = int(input (\"Indique el número de columnas de la primer matriz: \"))\n",
        "columnas2 = int(input (\"Indique el número de columnas de la segunda matriz: \"))\n",
        "\n",
        "#creamos las matrices en las que se guardarán los valores que el usuario proporcione y los de la suma\n",
        "A = np.zeros((filas1,columnas1))    \n",
        "B = np.zeros((columnas1,columnas2))   \n",
        " #llenamos la matriz 1 con los datos del usuario\n",
        "print (\"Ingrese la primer matriz\")\n",
        "\n",
        "for i in range(filas1):\n",
        "        for j in range(columnas1):\n",
        "            A[i][j] = float(input('Elemento (%d,%d): ' % (i, j)))\n",
        "print( \"su matriz 1 es:\")\n",
        "print(A)\n",
        "#llenamos la matriz 2\n",
        "print (\"Ingrese la segunda matriz\")\n",
        "for i in range(columnas1):\n",
        "        for j in range(columnas2):\n",
        "            B[i][j] = float(input('Elemento (%d,%d): ' % (i, j)))\n",
        "print( \"su matriz 2 es:\")\n",
        "print(B)\n",
        "\n",
        "#Mediante la función .dot() realizamos un producto matricial, entre la matriz A y B\n",
        "C = A.dot(B)\n",
        "print(\"El producto de las matrices es:\")\n",
        "    \n",
        "print (C)"
      ],
      "metadata": {
        "colab": {
          "base_uri": "https://localhost:8080/"
        },
        "id": "WASkRXhol0z-",
        "outputId": "f7d6db89-8f83-490a-eaf0-6b94cde913ee"
      },
      "execution_count": null,
      "outputs": [
        {
          "output_type": "stream",
          "name": "stdout",
          "text": [
            "recuerde que el numero de columnas de la segunda matriz debe ser igual al número de columnas de la primer matriz\n",
            "Indique el número de filas de la primer matriz: 3\n",
            "Indique el número de columnas de la primer matriz: 3\n",
            "Indique el número de columnas de la segunda matriz: 3\n",
            "Ingrese la primer matriz\n",
            "Elemento (0,0): 5\n",
            "Elemento (0,1): 4\n",
            "Elemento (0,2): 8\n",
            "Elemento (1,0): 0\n",
            "Elemento (1,1): 2\n",
            "Elemento (1,2): 7\n",
            "Elemento (2,0): 3\n",
            "Elemento (2,1): 8\n",
            "Elemento (2,2): 4\n",
            "su matriz 1 es:\n",
            "[[5. 4. 8.]\n",
            " [0. 2. 7.]\n",
            " [3. 8. 4.]]\n",
            "Ingrese la segunda matriz\n",
            "Elemento (0,0): 2\n",
            "Elemento (0,1): 1\n",
            "Elemento (0,2): 5\n",
            "Elemento (1,0): 6\n",
            "Elemento (1,1): 3\n",
            "Elemento (1,2): 0\n",
            "Elemento (2,0): 8\n",
            "Elemento (2,1): 5\n",
            "Elemento (2,2): 7\n",
            "su matriz 2 es:\n",
            "[[2. 1. 5.]\n",
            " [6. 3. 0.]\n",
            " [8. 5. 7.]]\n",
            "El producto de las matrices es:\n",
            "[[98. 57. 81.]\n",
            " [68. 41. 49.]\n",
            " [86. 47. 43.]]\n"
          ]
        }
      ]
    },
    {
      "cell_type": "markdown",
      "source": [
        "### **Matriz Inversa**\n",
        "\n",
        "Una matriz cuadrada $A_{n\\times n}$ tiene inversa denotada como $A^{-1}$ si se cuemple que:\n",
        "\n",
        "$$AA^{-1}=A^{-1}A=I$$\n",
        "\n",
        "De donde I es la matriz identidad de tamaño n la cuál tiene unos en su diagonal y ceros en todas las demas entradas.\n",
        "\n",
        "Las matrices que tienen inversa son llamadas matrices invertibles o regulares.\n",
        "\n",
        "La matriz inversa debe cumplir:\n",
        " * Es única \n",
        " * $(A^{-1})^{-1}$ = $A$\n",
        " * $(A B)^{-1}$ = $B^{-1}$$A^{-1}$\n",
        " * $(\\alpha*A)^{-1}$=$\\frac{1}{\\alpha}$*$A^{-1}$   con $\\alpha$ distinto de 0"
      ],
      "metadata": {
        "id": "3E0Tis1RmZtl"
      }
    },
    {
      "cell_type": "markdown",
      "source": [
        "\n",
        "* **Def. Traza** de una matriz es la suma de los elementos de su diagonal principal. Para una matriz cuadrada A de tamaño n x n, la traza se define como:\n",
        "\n",
        "tr(A) = a11 + a22 + a33 + ... + ann\n",
        "\n",
        "Donde aij representa el elemento en la fila i y columna j de la matriz A.\n",
        "\n",
        "La traza de una matriz es útil en diversos contextos matemáticos y aplicaciones prácticas, como en el cálculo de determinantes, la búsqueda de valores propios y la realización de operaciones de matriz más complejas.\n",
        "\n",
        "* **Un matriz nilpotente** es una matriz cuadrada en la que existe un entero positivo k tal que A elevado a la k-ésima potencia es igual a la matriz cero (matriz de ceros).\n",
        "\n",
        "En términos más precisos, para una matriz cuadrada A de tamaño n x n, se dice que A es nilpotente si existe un número entero positivo k tal que $A^k$ = 0, donde 0 representa la matriz de ceros de tamaño n x n.\n",
        "\n",
        "La propiedad de ser nilpotente implica que al elevar la matriz a una potencia suficientemente grande, todos sus elementos se vuelven ceros. Esto ocurre porque la matriz tiene una estructura especial que hace que se anulen progresivamente sus potencias sucesivas.\n",
        "\n",
        "Las matrices nilpotentes son importantes en el álgebra lineal y se utilizan en diversos contextos, como en la teoría de la diagonalización y en la resolución de sistemas de ecuaciones lineales.\n",
        "\n",
        "* **Matriz Idempotente**: Si para $k$ ∈ $\\mathbb{Z}$ / $A^k$ = $A$\n",
        "\n"
      ],
      "metadata": {
        "id": "elWDMReYyvjT"
      }
    },
    {
      "cell_type": "code",
      "source": [
        "import numpy as np\n",
        "\n",
        "def es_idempotente(matriz):\n",
        "    n = matriz.shape[0]\n",
        "    producto = np.dot(matriz, matriz)\n",
        "    \n",
        "    return np.array_equal(matriz, producto)\n",
        "\n",
        "# Ejemplo de matriz idempotente\n",
        "matriz_idempotente = np.array([[1, 0, 0],\n",
        "                               [0, 1, 0],\n",
        "                               [0, 0, 0]])\n",
        "\n",
        "# Verificar si la matriz es idempotente\n",
        "if es_idempotente(matriz_idempotente):\n",
        "    print(\"La matriz es idempotente.\")\n",
        "else:\n",
        "    print(\"La matriz no es idempotente.\")"
      ],
      "metadata": {
        "colab": {
          "base_uri": "https://localhost:8080/"
        },
        "id": "rB3OBD6V_qUR",
        "outputId": "dade6c03-ccab-4dde-e347-169f5680c9a6"
      },
      "execution_count": null,
      "outputs": [
        {
          "output_type": "stream",
          "name": "stdout",
          "text": [
            "La matriz es idempotente.\n"
          ]
        }
      ]
    },
    {
      "cell_type": "markdown",
      "source": [
        "* **Matriz Ortogonal**: Si $A$ . $A^T$= $D$"
      ],
      "metadata": {
        "id": "39vygDvI_tf1"
      }
    },
    {
      "cell_type": "code",
      "source": [
        "import numpy as np\n",
        "\n",
        "def es_ortogonal(matriz):\n",
        "    producto = np.dot(matriz, matriz.T)\n",
        "    identidad = np.eye(matriz.shape[0])\n",
        "    \n",
        "    return np.allclose(producto, identidad)\n",
        "\n",
        "# Generar una matriz ortogonal de tamaño 3x3\n",
        "matriz_ortogonal = np.array([[0.6, -0.8, 0],\n",
        "                             [0.8, 0.6, 0],\n",
        "                             [0, 0, 1]])\n",
        "\n",
        "# Verificar si la matriz es ortogonal\n",
        "if es_ortogonal(matriz_ortogonal):\n",
        "    print(\"La matriz es ortogonal.\")\n",
        "else:\n",
        "    print(\"La matriz no es ortogonal.\")"
      ],
      "metadata": {
        "colab": {
          "base_uri": "https://localhost:8080/"
        },
        "id": "FpD0JyK6_xd3",
        "outputId": "289e089a-cc21-4cc2-b079-62eee7f9f9c2"
      },
      "execution_count": null,
      "outputs": [
        {
          "output_type": "stream",
          "name": "stdout",
          "text": [
            "La matriz es ortogonal.\n"
          ]
        }
      ]
    },
    {
      "cell_type": "markdown",
      "source": [
        "* **Matriz Ortonormal**: Si $A$$A^T$=$I$"
      ],
      "metadata": {
        "id": "j-nlIRn7_5Wr"
      }
    },
    {
      "cell_type": "code",
      "source": [
        "import numpy as np\n",
        "\n",
        "def es_ortonormal(matriz):\n",
        "    producto = np.dot(matriz, matriz.T)\n",
        "    identidad = np.eye(matriz.shape[0])\n",
        "    \n",
        "    return np.allclose(producto, identidad)\n",
        "\n",
        "# Generar una matriz ortonormal de tamaño 3x3\n",
        "matriz_ortonormal = np.array([[1/np.sqrt(2), -1/np.sqrt(2), 0],\n",
        "                              [1/np.sqrt(6), 1/np.sqrt(6), -2/np.sqrt(6)],\n",
        "                              [1/np.sqrt(3), 1/np.sqrt(3), 1/np.sqrt(3)]])\n",
        "\n",
        "# Verificar si la matriz es ortonormal\n",
        "if es_ortonormal(matriz_ortonormal):\n",
        "    print(\"La matriz es ortonormal.\")\n",
        "else:\n",
        "    print(\"La matriz no es ortonormal.\")"
      ],
      "metadata": {
        "colab": {
          "base_uri": "https://localhost:8080/"
        },
        "id": "x2RzeicP__F0",
        "outputId": "f24d30ee-96aa-4aa1-feaa-b020b24c65c8"
      },
      "execution_count": null,
      "outputs": [
        {
          "output_type": "stream",
          "name": "stdout",
          "text": [
            "La matriz es ortonormal.\n"
          ]
        }
      ]
    },
    {
      "cell_type": "markdown",
      "source": [
        "### **Potencia de una matriz**\n",
        "Para obtener la potencia de una matriz, se realiza la multiplicación de la matriz por sí misma 'n' veces. Sin embargo, es importante destacar que este cálculo solo se puede realizar en matrices cuadradas. Por ejemplo, si queremos calcular la potencia $A^2$, esto implica multiplicar la matriz A por sí misma, lo que requiere que A sea una matriz cuadrada. De manera más general, para calcular la potencia $A^n$, se realiza la multiplicación de la matriz A consigo misma 'n' veces."
      ],
      "metadata": {
        "id": "E6vs5DRuBH4U"
      }
    },
    {
      "cell_type": "code",
      "source": [
        "import numpy as np\n",
        "# Definir una matriz de ejemplo\n",
        "matriz = np.array([[2, 3],\n",
        "                   [4, 5]])\n",
        "# Calcular la potencia de la matriz\n",
        "potencia_2 = np.linalg.matrix_power(matriz, 2)\n",
        "# Imprimir los resultados\n",
        "print(\"Matriz elevada al cuadrado:\")\n",
        "print(potencia_2)\n"
      ],
      "metadata": {
        "colab": {
          "base_uri": "https://localhost:8080/"
        },
        "id": "0OA5zxPdBmY1",
        "outputId": "d371e1c6-ab0e-42a6-a0f3-89b56bf909f6"
      },
      "execution_count": null,
      "outputs": [
        {
          "output_type": "stream",
          "name": "stdout",
          "text": [
            "Matriz elevada al cuadrado:\n",
            "[[16 21]\n",
            " [28 37]]\n"
          ]
        }
      ]
    },
    {
      "cell_type": "markdown",
      "source": [
        "hemos utilizado una función especializada de la biblioteca NumPy que nos permite elevar una matriz a una potencia determinada. Esto nos facilita el cálculo de las potencias de la matriz sin tener que realizar la multiplicación manualmente varias veces. En el ejemplo, hemos aplicado esta función a una matriz de tamaño 2x2, pero se puede utilizar con matrices de cualquier tamaño siempre y cuando sean cuadradas."
      ],
      "metadata": {
        "id": "zyycWNZDCVPr"
      }
    },
    {
      "cell_type": "markdown",
      "source": [
        "#DETERMINANTES\n",
        "El determinante es una medida numérica que se calcula para una matriz cuadrada. Se representa como $|A|$ o $det(A)$, donde A es la matriz. El determinante proporciona información valiosa sobre las propiedades de la matriz y se utiliza en diversos aspectos del álgebra lineal.\n",
        "\n",
        "En términos generales, el determinante se calcula sumando o restando los productos de los elementos de una fila (o columna) por sus respectivos cofactores. Un cofactor es el determinante de la matriz resultante después de eliminar la fila y la columna que contienen el elemento correspondiente.\n",
        "\n",
        "El valor del determinante puede ser utilizado para determinar si una matriz es invertible. Si el determinante es igual a cero, la matriz se considera singular y no tiene inversa. Además, el determinante se utiliza en la resolución de sistemas de ecuaciones lineales, cálculo de valores propios y en el cálculo de áreas y volúmenes en geometría.\n"
      ],
      "metadata": {
        "id": "hx_MQ28eCX84"
      }
    },
    {
      "cell_type": "code",
      "source": [
        "import numpy as np\n",
        "# Definir una matriz de ejemplo\n",
        "matriz = np.array([[1, 2, 3],\n",
        "[4, 5, 6],\n",
        "[7, 8, 9]])\n",
        "# Calcular el determinante\n",
        "determinante = np.linalg.det(matriz)\n",
        "# Imprimir el resultado\n",
        "print(\"El determinante de la matriz es:\", determinante)"
      ],
      "metadata": {
        "colab": {
          "base_uri": "https://localhost:8080/"
        },
        "id": "O-eoBLgDDfxp",
        "outputId": "10308c87-798b-4625-f69e-1ab89f4ad7ea"
      },
      "execution_count": null,
      "outputs": [
        {
          "output_type": "stream",
          "name": "stdout",
          "text": [
            "El determinante de la matriz es: 0.0\n"
          ]
        }
      ]
    },
    {
      "cell_type": "markdown",
      "source": [
        "##**La función determinante.**\n",
        "El determinante es una función matemática que se aplica a las matrices cuadradas. Si tienes una matriz cuadrada de orden n (es decir, con n filas y n columnas), el determinante es un número que se calcula de manera específica. El determinante generalmente se denota como det(A) o |A|, donde A representa la matriz.\n",
        "\n",
        "El cálculo del determinante varía dependiendo del tamaño de la matriz. Aquí están algunas de las propiedades y métodos más comunes para calcular el determinante:\n",
        "\n",
        "1. Matriz de orden 2: Para una matriz de 2x2, el determinante se calcula multiplicando el elemento superior izquierdo por el elemento inferior derecho y restando el producto del elemento superior derecho por el elemento inferior izquierdo. Si tienes la matriz A = [[a, b], [c, d]], entonces el determinante es $det(A) = (ad) - (bc)$.\n",
        "\n",
        "2. Regla de Sarrus para matrices de orden 3: Para una matriz de 3x3, puedes usar la regla de Sarrus. Si tienes la matriz A = [[a, b, c], [d, e, f], [g, h, i]], entonces el determinante es det(A) = (aei + bfg + cdh) - (gec + hfa + idb).\n",
        "\n",
        "3. Propiedades del determinante: El determinante tiene varias propiedades útiles. Por ejemplo, si intercambias dos filas o dos columnas de una matriz, el signo del determinante cambia. Si multiplicas una fila o una columna por un escalar k, el determinante se multiplica por k. Si tienes una matriz triangular (donde todos los elementos por encima o debajo de la diagonal principal son cero), el determinante es igual al producto de los elementos en la diagonal principal.\n",
        "\n",
        "4. Regla de Laplace y expansión por cofactores: Para matrices de orden superior a 3, puedes utilizar la regla de Laplace o la expansión por cofactores para calcular el determinante. Estos métodos involucran descomponer la matriz en submatrices más pequeñas y realizar cálculos recursivos."
      ],
      "metadata": {
        "id": "3NxZacpVFECc"
      }
    },
    {
      "cell_type": "markdown",
      "source": [
        "###**Propiedades**\n",
        "Teorema:\n",
        "\n",
        "a) Si una fila es multiplo de otra fila, el valor del detreminante es  igual a cero.\n",
        "\n",
        "b)$|AB| = |A| \\cdot |B|$\n",
        "\n",
        "c) $|A| \\neq 0$\n",
        "\n",
        "$|A^{-1}| = \\frac{1}{|A|}$\n",
        "\n",
        "$AA^{-1} = A^{-1}A = I$\n",
        "\n",
        "$|AA^{-1}| = |A| \\cdot |A^{-1}| = 1$"
      ],
      "metadata": {
        "id": "7ZSmA0-6FA3p"
      }
    },
    {
      "cell_type": "markdown",
      "source": [
        "###**Matriz de orden 2**\n",
        "Una matriz identidad de orden n es una matriz cuadrada con dimensiones n x n. Todos los elementos fuera de la diagonal principal son ceros, mientras que los elementos en la diagonal principal son unos. En resumen, una matriz identidad es una matriz cuadrada con unos en la diagonal principal y ceros en el resto de elementos."
      ],
      "metadata": {
        "id": "qoLs9J5_DRlR"
      }
    },
    {
      "cell_type": "code",
      "source": [
        "import numpy as np\n",
        "\n",
        "# Crear una matriz identidad de orden 2\n",
        "matriz_identidad = np.eye(2)\n",
        "\n",
        "print(matriz_identidad)"
      ],
      "metadata": {
        "colab": {
          "base_uri": "https://localhost:8080/"
        },
        "id": "uXHmO9k8EKx9",
        "outputId": "ffd045c7-0ac9-4825-ae3d-cfe904e3280a"
      },
      "execution_count": null,
      "outputs": [
        {
          "output_type": "stream",
          "name": "stdout",
          "text": [
            "[[1. 0.]\n",
            " [0. 1.]]\n"
          ]
        }
      ]
    },
    {
      "cell_type": "markdown",
      "source": [
        "###**Matriz de orden 3**\n",
        "El determinante de orden 3, también conocido como determinante de tercer orden, se refiere al valor del determinante de una matriz cuadrada de tamaño 3x3. Es decir, cuando tenemos una matriz compuesta por 3 filas y 3 columnas."
      ],
      "metadata": {
        "id": "SmDVzBg6Ef1j"
      }
    },
    {
      "cell_type": "code",
      "source": [
        "import numpy as np\n",
        "\n",
        "# Generar una matriz de orden 3\n",
        "matriz_3x3 = np.array([[1, 2, 3],\n",
        "                       [4, 5, 6],\n",
        "                       [7, 8, 9]])\n",
        "\n",
        "# Imprimir la matriz original\n",
        "print(\"Matriz original:\")\n",
        "print(matriz_3x3)\n",
        "\n",
        "# Calcular la suma de los elementos de la diagonal principal\n",
        "suma_diagonal = np.trace(matriz_3x3)\n",
        "\n",
        "# Imprimir la suma de los elementos de la diagonal principal\n",
        "print(\"\\nSuma de la diagonal principal:\")\n",
        "print(suma_diagonal)"
      ],
      "metadata": {
        "colab": {
          "base_uri": "https://localhost:8080/"
        },
        "id": "q82IbMCCEnwh",
        "outputId": "470d0087-600e-4799-8c51-28813e55eab1"
      },
      "execution_count": null,
      "outputs": [
        {
          "output_type": "stream",
          "name": "stdout",
          "text": [
            "Matriz original:\n",
            "[[1 2 3]\n",
            " [4 5 6]\n",
            " [7 8 9]]\n",
            "\n",
            "Suma de la diagonal principal:\n",
            "15\n"
          ]
        }
      ]
    },
    {
      "cell_type": "markdown",
      "source": [
        "##**Desarrollo del Teorema de Laplace**\n",
        "El Teorema de Laplace, también conocido como la regla de cofactores, es una técnica utilizada para calcular el determinante de una matriz cuadrada de cualquier orden. Este teorema se basa en la expansión del determinante a lo largo de una fila o columna específica de la matriz, utilizando los cofactores de los elementos de esa fila o columna.\n",
        "\n",
        "Supongamos que tenemos una matriz cuadrada A de orden n. El determinante de A se puede calcular utilizando el Teorema de Laplace de la siguiente manera:\n",
        "\n",
        "Selección de una fila o columna: Primero, elige una fila o columna de la matriz A a lo largo de la cual deseas expandir el determinante. Por conveniencia, supongamos que seleccionamos la primera fila.\n",
        "\n",
        "Cofactor de un elemento: Para cada elemento A[1, k] de la primera fila (donde k varía de 1 a n), calcula su cofactor C[1, k]. El cofactor C[1, k] se obtiene multiplicando el elemento A[1, k] por (-1)^(1+k) y calculando el determinante de la submatriz que se forma al eliminar la primera fila y la k-ésima columna de la matriz A. Es decir, $C[1, k] = (-1)^(1+k) * det(A[1, k])$.\n",
        "\n",
        "Expansión del determinante: Una vez que hayas calculado los cofactores C[1, k] para todos los elementos de la primera fila, puedes expandir el determinante utilizando la primera fila. Aplica la fórmula: $det(A) = A[1, 1]*C[1, 1] + A[1, 2]*C[1, 2] + ... + A[1, n]*C[1, n]$. Esto implica multiplicar cada elemento A[1, k] de la primera fila por su cofactor correspondiente C[1, k] y sumar todos estos productos.\n",
        "\n",
        "Cálculo de los cofactores de submatrices: Para calcular los cofactores C[1, k], debes repetir el proceso para cada uno de ellos. Es decir, para cada cofactor C[1, k], calcula su determinante expandiéndolo a lo largo de una fila o columna y repitiendo los pasos anteriores. Este proceso es recursivo y se repite hasta llegar a matrices de orden 2, donde se puede aplicar directamente la fórmula del determinante de orden 2.\n",
        "\n",
        "Cálculo final: Continúa calculando los cofactores y expandiendo los determinantes hasta llegar a matrices de orden 2, donde puedes aplicar directamente la fórmula correspondiente para obtener los determinantes finales.\n",
        "\n",
        "Es importante destacar que el Teorema de Laplace es un método general para calcular determinantes y puede ser utilizado en matrices de cualquier orden. Sin embargo, a medida que el orden de la matriz aumenta, el cálculo manual de los cofactores y la expansión del determinante pueden volverse muy laboriosos. En tales casos, se suelen utilizar métodos más eficientes, como la eliminación de Gauss-Jordan o las propiedades del determinante, para simplificar los cálculos."
      ],
      "metadata": {
        "id": "HUP6WJyKF5F7"
      }
    },
    {
      "cell_type": "code",
      "source": [
        "import sympy as sp\n",
        "\n",
        "# Definir la matriz\n",
        "matriz = sp.Matrix([[2, 1, 3],\n",
        "                    [4, 5, 6],\n",
        "                    [7, 8, 9]])\n",
        "\n",
        "# Calcular el determinante utilizando el Teorema de Laplace\n",
        "determinante = matriz.det()\n",
        "\n",
        "# Imprimir el resultado\n",
        "print(\"El determinante es:\", determinante)\n"
      ],
      "metadata": {
        "colab": {
          "base_uri": "https://localhost:8080/"
        },
        "id": "3N6OqhbaGjRl",
        "outputId": "a03b6250-e008-4278-9532-fffc23eb8015"
      },
      "execution_count": null,
      "outputs": [
        {
          "output_type": "stream",
          "name": "stdout",
          "text": [
            "El determinante es: -9\n"
          ]
        }
      ]
    },
    {
      "cell_type": "markdown",
      "source": [
        "##**Cálculo de determinantes por el método de Sarruz**\n",
        "El método de Sarrus es una técnica específica para calcular el determinante de una matriz de 3x3 utilizando una fórmula determinada. Aquí tienes un ejemplo de cómo puedes calcular el determinante utilizando el método de Sarrus en Google Colab:"
      ],
      "metadata": {
        "id": "TJw-qlwGHRrP"
      }
    },
    {
      "cell_type": "code",
      "source": [
        "import numpy as np\n",
        "\n",
        "# Definir la matriz\n",
        "matriz = np.array([[2, 1, 3],\n",
        "                   [4, 5, 6],\n",
        "                   [7, 8, 9]])\n",
        "\n",
        "# Calcular el determinante utilizando el método de Sarrus\n",
        "determinante = matriz[0, 0] * matriz[1, 1] * matriz[2, 2] + matriz[0, 1] * matriz[1, 2] * matriz[2, 0] + matriz[0, 2] * matriz[1, 0] * matriz[2, 1] - matriz[0, 2] * matriz[1, 1] * matriz[2, 0] - matriz[0, 1] * matriz[1, 0] * matriz[2, 2] - matriz[0, 0] * matriz[1, 2] * matriz[2, 1]\n",
        "\n",
        "# Imprimir el resultado\n",
        "print(\"El determinante es:\", determinante)\n"
      ],
      "metadata": {
        "colab": {
          "base_uri": "https://localhost:8080/"
        },
        "id": "9I4HadxZH6CR",
        "outputId": "698213ad-9abb-479f-a80d-169469e26e76"
      },
      "execution_count": null,
      "outputs": [
        {
          "output_type": "stream",
          "name": "stdout",
          "text": [
            "El determinante es: -9\n"
          ]
        }
      ]
    },
    {
      "cell_type": "markdown",
      "source": [
        "##**Aplicación de determinantes para cálculo del rango de una matriz**\n",
        "Los determinantes pueden utilizarse para calcular el rango de una matriz. El rango de una matriz se define como el número máximo de columnas linealmente independientes en la matriz. Para calcular el rango de una matriz utilizando determinantes, puedes seguir estos pasos:\n",
        "\n",
        "1. Obtén la matriz original de la cual deseas calcular el rango.\n",
        "\n",
        "2. Calcula el determinante de todas las submatrices cuadradas de la matriz original, comenzando desde las submatrices de orden 1 y aumentando gradualmente el orden hasta alcanzar el orden de la matriz original. Puedes usar la propiedad de que si el determinante de una submatriz es distinto de cero, entonces las columnas correspondientes de la matriz son linealmente independientes.\n",
        "\n",
        "3. El rango de la matriz es igual al orden de la submatriz de mayor orden cuyo determinante es distinto de cero.\n"
      ],
      "metadata": {
        "id": "Ssn5hlvwIr0Y"
      }
    },
    {
      "cell_type": "code",
      "source": [
        "import numpy as np\n",
        "\n",
        "# Definir la matriz\n",
        "matriz = np.array([[1, 2, 3],\n",
        "                   [4, 5, 6],\n",
        "                   [7, 8, 9]])\n",
        "\n",
        "# Obtener el orden de la matriz\n",
        "orden = matriz.shape[1]\n",
        "\n",
        "# Calcular el rango de la matriz\n",
        "rango = 0\n",
        "\n",
        "for i in range(1, orden + 1):\n",
        "    submatrices = [np.linalg.det(matriz[:i, :i]) for i in range(1, i + 1)]\n",
        "    if any(submatrices):\n",
        "        rango = i\n",
        "\n",
        "# Imprimir el resultado\n",
        "print(\"El rango de la matriz es:\", rango)\n"
      ],
      "metadata": {
        "colab": {
          "base_uri": "https://localhost:8080/"
        },
        "id": "nnORpskEI_8x",
        "outputId": "d72e7900-7190-4cba-fefd-9799e2ac7a1d"
      },
      "execution_count": null,
      "outputs": [
        {
          "output_type": "stream",
          "name": "stdout",
          "text": [
            "El rango de la matriz es: 3\n"
          ]
        }
      ]
    },
    {
      "cell_type": "markdown",
      "source": [
        "##**Aplicación de determinantes para cálculo de la matriz inversa**\n",
        "Los determinantes también se pueden utilizar para calcular la matriz inversa de una matriz cuadrada. La matriz inversa de una matriz A se denota como A^(-1) y tiene la propiedad de que la multiplicación de A y su inversa produce la matriz identidad.\n",
        "\n",
        "El cálculo de la matriz inversa utilizando determinantes se puede realizar utilizando la siguiente fórmula:\n",
        "\n",
        "$A^(-1) = (1/det(A)) * adj(A)$\n",
        "\n",
        "Donde det(A) es el determinante de la matriz A y adj(A) es la matriz adjunta de A."
      ],
      "metadata": {
        "id": "mVzXxNYBJNZ4"
      }
    },
    {
      "cell_type": "code",
      "source": [
        "import numpy as np\n",
        "\n",
        "# Definir la matriz\n",
        "matriz = np.array([[1, 2, 3],\n",
        "                   [4, 5, 6],\n",
        "                   [7, 8, 10]])\n",
        "\n",
        "# Calcular el determinante de la matriz\n",
        "determinante = np.linalg.det(matriz)\n",
        "\n",
        "# Verificar si la matriz es no singular (tiene inversa)\n",
        "if determinante != 0:\n",
        "    # Calcular la matriz adjunta\n",
        "    adjunta = np.linalg.inv(matriz).T * determinante\n",
        "\n",
        "    # Calcular la matriz inversa\n",
        "    inversa = adjunta / determinante\n",
        "\n",
        "    # Imprimir el resultado\n",
        "    print(\"La matriz inversa es:\")\n",
        "    print(inversa)\n",
        "else:\n",
        "    print(\"La matriz no tiene inversa ya que su determinante es igual a cero.\")\n"
      ],
      "metadata": {
        "colab": {
          "base_uri": "https://localhost:8080/"
        },
        "id": "ksberkl6JbMN",
        "outputId": "0df0a4b9-504d-417d-f0ee-979e4334832f"
      },
      "execution_count": null,
      "outputs": [
        {
          "output_type": "stream",
          "name": "stdout",
          "text": [
            "La matriz inversa es:\n",
            "[[-0.66666667 -0.66666667  1.        ]\n",
            " [-1.33333333  3.66666667 -2.        ]\n",
            " [ 1.         -2.          1.        ]]\n"
          ]
        }
      ]
    },
    {
      "cell_type": "markdown",
      "source": [
        "## **Partición de matrices** \n",
        "Es una forma de dividir una matriz grande en submatrices más pequeñas y organizadas. Consiste en dividir la matriz original en bloques o secciones, donde cada bloque es una submatriz que conserva la estructura de la matriz original.\n",
        "\n",
        "En una partición de matrices, los bloques pueden ser de diferentes tamaños y formas, pero se mantienen en el mismo orden que en la matriz original. Estos bloques pueden contener elementos individuales, filas o columnas completas, o incluso submatrices más pequeñas.\n",
        "\n",
        "La partición de matrices se utiliza con frecuencia en el álgebra lineal y tiene diversas aplicaciones. Puede facilitar la manipulación y cálculo de matrices grandes al trabajar con submatrices más pequeñas y administrar la información de manera más estructurada. Además, la partición de matrices permite aplicar ciertas operaciones y propiedades a los bloques individuales, lo que puede simplificar el análisis y la resolución de problemas matriciales."
      ],
      "metadata": {
        "id": "aKafuXZ8FDBE"
      }
    },
    {
      "cell_type": "code",
      "source": [
        "import numpy as np\n",
        "# Definir una matriz de ejemplo\n",
        "matriz = np.array([[11, 22, 33, 44],\n",
        "[55, 66, 77, 88],\n",
        "[90, 100, 110, 120]])\n",
        "# Particionar la matriz en submatrices\n",
        "submatriz1 = matriz[:, :2] # Primeras dos columnas\n",
        "submatriz2 = matriz[:, 2:] # Últimas dos columnas\n",
        "# Imprimir las submatrices\n",
        "print(\"Submatriz 1:\")\n",
        "print(submatriz1)\n",
        "print(\"\\nSubmatriz 2:\")\n",
        "print(submatriz2)\n",
        "\n"
      ],
      "metadata": {
        "colab": {
          "base_uri": "https://localhost:8080/"
        },
        "id": "99KhTN0rGhyX",
        "outputId": "75d1a9a3-0847-4568-96ff-ddcb45de0bf1"
      },
      "execution_count": null,
      "outputs": [
        {
          "output_type": "stream",
          "name": "stdout",
          "text": [
            "Submatriz 1:\n",
            "[[ 11  22]\n",
            " [ 55  66]\n",
            " [ 90 100]]\n",
            "\n",
            "Submatriz 2:\n",
            "[[ 33  44]\n",
            " [ 77  88]\n",
            " [110 120]]\n"
          ]
        }
      ]
    },
    {
      "cell_type": "code",
      "source": [
        "import numpy as np\n",
        "# Definir una matriz de ejemplo\n",
        "matriz = np.array([[10, 20, 30, 40],\n",
        "[50, 60, 70, 80],\n",
        "[90, 100, 110, 120]])\n",
        "# Particionar la matriz en submatrices\n",
        "submatriz1 = matriz[:, :3] # Primeras tres columnas\n",
        "submatriz2 = matriz[:, 3:] # Última columna\n",
        "# Calcular el determinante de la submatriz 1\n",
        "determinante_submatriz1 = np.linalg.det(submatriz1)\n",
        "# Imprimir la submatriz 1 y su determinante\n",
        "print(\"Submatriz 1:\")\n",
        "print(submatriz1)\n",
        "print(\"\\nDeterminante de la submatriz 1:\", determinante_submatriz1)\n",
        "# Imprimir la submatriz 2\n",
        "print(\"\\nSubmatriz 2:\")\n",
        "print(submatriz2)\n"
      ],
      "metadata": {
        "colab": {
          "base_uri": "https://localhost:8080/"
        },
        "id": "JmRAscegHQ0A",
        "outputId": "b509ef67-d238-44a9-eaac-3c6d4e5be827"
      },
      "execution_count": null,
      "outputs": [
        {
          "output_type": "stream",
          "name": "stdout",
          "text": [
            "Submatriz 1:\n",
            "[[ 10  20  30]\n",
            " [ 50  60  70]\n",
            " [ 90 100 110]]\n",
            "\n",
            "Determinante de la submatriz 1: 0.0\n",
            "\n",
            "Submatriz 2:\n",
            "[[ 40]\n",
            " [ 80]\n",
            " [120]]\n"
          ]
        }
      ]
    },
    {
      "cell_type": "markdown",
      "source": [
        "#SISTEMAS DE ECUACIONES\n",
        "Los sistemas de ecuaciones lineales se pueden escribir como una ecuación matricial, de forma que cualquier sistema se puede expresar como $AX=B$, donde $A$ es la matriz de coeficientes, $X$ es la matriz de incógnitas y $B$ es la matriz de términos independientes."
      ],
      "metadata": {
        "id": "cqHrG2WjH0oo"
      }
    },
    {
      "cell_type": "code",
      "source": [
        "import numpy as np\n",
        "\n",
        "# Matriz de coeficientes (A)\n",
        "A = np.array([[2, 3],\n",
        "              [4, -7]])\n",
        "\n",
        "# Matriz de términos independientes (B)\n",
        "B = np.array([5, -4])\n",
        "\n",
        "# Resolver el sistema de ecuaciones\n",
        "X = np.linalg.solve(A, B)\n",
        "\n",
        "print(\"Matriz de coeficientes (A):\")\n",
        "print(A)\n",
        "\n",
        "print(\"\\nMatriz de términos independientes (B):\")\n",
        "print(B)\n",
        "\n",
        "print(\"\\nSolución del sistema de ecuaciones (X):\")\n",
        "print(X)"
      ],
      "metadata": {
        "colab": {
          "base_uri": "https://localhost:8080/"
        },
        "id": "t3RR-MG0YVy9",
        "outputId": "9e98f99b-0eae-4e5d-9417-7a8fc80e0721"
      },
      "execution_count": null,
      "outputs": [
        {
          "output_type": "stream",
          "name": "stdout",
          "text": [
            "Matriz de coeficientes (A):\n",
            "[[ 2  3]\n",
            " [ 4 -7]]\n",
            "\n",
            "Matriz de términos independientes (B):\n",
            "[ 5 -4]\n",
            "\n",
            "Solución del sistema de ecuaciones (X):\n",
            "[0.88461538 1.07692308]\n"
          ]
        }
      ]
    },
    {
      "cell_type": "markdown",
      "source": [
        "##**Sistemas de ecuaciones de primer grado**\n",
        "Un sistema de ecuaciones de primer grado, también conocido como sistema de ecuaciones lineales, es un conjunto de ecuaciones lineales que se resuelven de manera simultánea. Cada ecuación en el sistema está compuesta por variables lineales elevadas a la potencia uno (exponente uno) y constantes.\n",
        "\n",
        "En un sistema de ecuaciones de primer grado, el objetivo es encontrar los valores de las variables que satisfacen todas las ecuaciones simultáneamente. Cada ecuación representa una restricción y el sistema de ecuaciones busca las soluciones que cumplan todas las restricciones.\n",
        "\n",
        "Por ejemplo, un sistema de ecuaciones de primer grado con dos variables x e y puede tener la siguiente forma:\n",
        "\n",
        "Ecuación 1: ax + by = c\n",
        "Ecuación 2: dx + ey = f\n",
        "\n",
        "Donde a, b, c, d, e, y f son constantes conocidas.\n",
        "\n",
        "La solución del sistema de ecuaciones es un conjunto de valores para las variables x e y que hacen que ambas ecuaciones sean verdaderas al mismo tiempo. Estos valores pueden ser únicos, no existir o formar un conjunto infinito, dependiendo de la naturaleza del sistema."
      ],
      "metadata": {
        "id": "gbWU3A6YZJw9"
      }
    },
    {
      "cell_type": "code",
      "source": [
        "# Definir los coeficientes de la ecuación\n",
        "a = 3\n",
        "b = 8\n",
        "# Resolver la ecuación de primer grado\n",
        "x = -b / a\n",
        "# Imprimir el resultado\n",
        "print(\"La solución de la ecuación\", a, \"x +\", b, \"= 0 es:\")\n",
        "print(\"x =\", x)\n"
      ],
      "metadata": {
        "colab": {
          "base_uri": "https://localhost:8080/"
        },
        "id": "-PoU8rXFZ7MR",
        "outputId": "6aca219c-6c5f-4216-b1d5-ccb2aac5851b"
      },
      "execution_count": null,
      "outputs": [
        {
          "output_type": "stream",
          "name": "stdout",
          "text": [
            "La solución de la ecuación 3 x + 8 = 0 es:\n",
            "x = -2.6666666666666665\n"
          ]
        }
      ]
    },
    {
      "cell_type": "markdown",
      "source": [
        "###**Método de Cramer**\n",
        "Es un método utilizado para resolver sistemas de ecuaciones lineales, donde se busca encontrar los valores de las incógnitas mediante el uso de determinantes. Este método se aplica específicamente a sistemas de ecuaciones lineales con el mismo número de ecuaciones y variables.\n",
        "\n",
        "Para utilizar el método de Cramer, se sigue el siguiente proceso:\n",
        "\n",
        "1. Se tiene un sistema de ecuaciones lineales de la forma:\n",
        "a11 * x1 + a12 * x2 + ... + a1n * xn = b1\n",
        "a21 * x1 + a22 * x2 + ... + a2n * xn = b2\n",
        "...\n",
        "am1 * x1 + am2 * x2 + ... + amn * xn = bm\n",
        "\n",
        "Donde aij son los coeficientes de las variables, xi son las incógnitas y bi son los términos independientes de cada ecuación.\n",
        "\n",
        "2. Se calcula el determinante de la matriz de coeficientes, denominado determinante principal (D). Dicho determinante se obtiene considerando los coeficientes aij en su posición original.\n",
        "\n",
        "3. Se calcula el determinante de la matriz que se obtiene al reemplazar los coeficientes de la columna i por los términos independientes bi. Este determinante se denomina determinante asociado a la incógnita xi y se denota como Di.\n",
        "\n",
        "4. La solución del sistema de ecuaciones se obtiene dividiendo cada determinante asociado Di entre el determinante principal D:\n",
        "xi = Di / D\n",
        "\n",
        "El método de Cramer tiene algunas limitaciones. Es computacionalmente costoso, especialmente para sistemas de ecuaciones grandes, ya que implica el cálculo de varios determinantes. Además, el método solo es aplicable si el determinante principal D no es igual a cero, lo que significa que el sistema de ecuaciones tiene una única solución."
      ],
      "metadata": {
        "id": "imqwq6xYmr7Z"
      }
    },
    {
      "cell_type": "code",
      "source": [
        "import numpy as np\n",
        "# Definir la matriz de coeficientes del sistema de ecuaciones\n",
        "coeficientes = np.array([[2, 3],\n",
        "[1, -2]])\n",
        "# Definir la matriz de términos independientes del sistema de ecuaciones\n",
        "terminos_independientes = np.array([5, -1])\n",
        "# Calcular el determinante de la matriz de coeficientes\n",
        "determinante_coeficientes = np.linalg.det(coeficientes)\n",
        "# Calcular los determinantes de las matrices al reemplazar cada columna de coeficientes con los términos independientes\n",
        "determinante_x = np.linalg.det(np.column_stack((terminos_independientes, coeficientes[:, 1])))\n",
        "determinante_y = np.linalg.det(np.column_stack((coeficientes[:, 0], terminos_independientes)))\n",
        "# Calcular las soluciones utilizando el método de Cramer\n",
        "solucion_x = determinante_x / determinante_coeficientes\n",
        "solucion_y = determinante_y / determinante_coeficientes\n",
        "# Imprimir la solución\n",
        "print(\"La solución del sistema de ecuaciones es:\")\n",
        "print(\"x =\", solucion_x)\n",
        "print(\"y =\", solucion_y)\n"
      ],
      "metadata": {
        "colab": {
          "base_uri": "https://localhost:8080/"
        },
        "id": "CbZeN7F6nSeb",
        "outputId": "d12626e9-230b-4c53-bac0-6a45a8a3e42c"
      },
      "execution_count": null,
      "outputs": [
        {
          "output_type": "stream",
          "name": "stdout",
          "text": [
            "La solución del sistema de ecuaciones es:\n",
            "x = 0.9999999999999998\n",
            "y = 1.0\n"
          ]
        }
      ]
    },
    {
      "cell_type": "markdown",
      "source": [
        "##**Sistemas de ecuaciones de segundo grado**\n",
        "Sistema de ecuaciones de segundo grado se refiere a un conjunto de ecuaciones no lineales en las cuales las variables están elevadas a la potencia dos (exponente dos). Estas ecuaciones pueden ser cuadráticas, cúbicas u otras ecuaciones polinómicas de grado superior.\n",
        "\n",
        "Por ejemplo, un sistema de ecuaciones de segundo grado podría tener la siguiente forma:\n",
        "\n",
        "Ecuación 1: x^2 + y^2 = 25\n",
        "Ecuación 2: x^2 - 2xy + y^2 = 9\n",
        "\n",
        "En este caso, las variables x e y están elevadas al cuadrado, lo que hace que las ecuaciones sean no lineales"
      ],
      "metadata": {
        "id": "XovPj3ObaAA1"
      }
    },
    {
      "cell_type": "code",
      "source": [
        "# Importar las bibliotecas necesarias\n",
        "import numpy as np\n",
        "from scipy.optimize import fsolve\n",
        "\n",
        "# Definir las ecuaciones del sistema\n",
        "def equations(variables):\n",
        "    x, y = variables\n",
        "    eq1 = x**2 + y**2 - 25\n",
        "    eq2 = x**2 - 2*x*y + y**2 - 9\n",
        "    return [eq1, eq2]\n",
        "\n",
        "# Resolver el sistema de ecuaciones\n",
        "initial_guess = [1, 1]  # Adivinanza inicial\n",
        "solution = fsolve(equations, initial_guess)\n",
        "\n",
        "# Imprimir la solución\n",
        "print(\"La solución del sistema de ecuaciones es:\")\n",
        "print(\"x =\", solution[0])\n",
        "print(\"y =\", solution[1])\n"
      ],
      "metadata": {
        "colab": {
          "base_uri": "https://localhost:8080/"
        },
        "id": "qrS9WsBUcyXO",
        "outputId": "723570cd-8e46-45b4-d2e9-f47a1f3f140b"
      },
      "execution_count": null,
      "outputs": [
        {
          "output_type": "stream",
          "name": "stdout",
          "text": [
            "La solución del sistema de ecuaciones es:\n",
            "x = 4.701562118716423\n",
            "y = 1.701562118716432\n"
          ]
        }
      ]
    },
    {
      "cell_type": "markdown",
      "source": [
        "##**Sistema de ecuaciones en matrices**\n",
        "Un sistema de ecuaciones lineales se puede expresar de forma matricial mediante una matriz de coeficientes y una matriz de términos independientes. La matriz de coeficientes contiene los coeficientes de las variables en cada ecuación, mientras que la matriz de términos independientes contiene los valores constantes de cada ecuación.\n",
        "\n",
        "La forma general de un sistema de ecuaciones lineales en matrices es:\n",
        "\n",
        "$AX = B$\n",
        "\n",
        "Donde:\n",
        "\n",
        "A es la matriz de coeficientes de tamaño m x n, donde m es el número de ecuaciones y n es el número de variables.\n",
        "X es la matriz columna de variables de tamaño n x 1.\n",
        "B es la matriz columna de términos independientes de tamaño m x 1.\n",
        "Cada fila de la matriz de coeficientes A representa una ecuación del sistema, y cada elemento de la matriz indica el coeficiente de la respectiva variable en esa ecuación. La matriz columna X contiene las variables del sistema, y la matriz columna B contiene los términos independientes de cada ecuación.\n",
        "\n",
        "La solución del sistema de ecuaciones lineales consiste en encontrar los valores de las variables que satisfacen todas las ecuaciones simultáneamente. Esto se puede lograr utilizando técnicas como la eliminación de Gauss, la factorización LU, la matriz inversa, etc."
      ],
      "metadata": {
        "id": "L5_Mw3QAdjKG"
      }
    },
    {
      "cell_type": "code",
      "source": [
        "# Definir las matrices de coeficientes y términos independientes del sistema de ecuaciones\n",
        "coeficientes = np.array([[2, 3],\n",
        "[2, -2]])\n",
        "terminos_independientes = np.array([5, -1])\n",
        "# Resolver el sistema de ecuaciones\n",
        "solucion = np.linalg.solve(coeficientes, terminos_independientes)\n",
        "# Imprimir la solución\n",
        "print(\"La solución del sistema de ecuaciones es:\")\n",
        "print(\"x =\", solucion[0])\n",
        "print(\"y =\", solucion[1])\n"
      ],
      "metadata": {
        "colab": {
          "base_uri": "https://localhost:8080/"
        },
        "id": "XguWOGVUebl1",
        "outputId": "1af29a04-ccdf-4bb6-dcd7-a4df3c871cf1"
      },
      "execution_count": null,
      "outputs": [
        {
          "output_type": "stream",
          "name": "stdout",
          "text": [
            "La solución del sistema de ecuaciones es:\n",
            "x = 0.7000000000000002\n",
            "y = 1.2\n"
          ]
        }
      ]
    },
    {
      "cell_type": "markdown",
      "source": [
        "### **Inversión de Matrices**\n",
        "Def. Sea An una matriz cuadrada que opera sobre los reales; si existe\n",
        "una matriz Bn cuadrada tal que AB = BA = I\n",
        "A la matriz B se dice que es inversa de A y A es una matriz inversible; por\n",
        "lo que: A = B^-1\n"
      ],
      "metadata": {
        "id": "s2almk8bfYAl"
      }
    },
    {
      "cell_type": "code",
      "source": [
        "filas1 = int(input (\"Indique el número de filas y columnas de la matriz: \"))\n",
        "\n",
        "#Creamos una matriz cuadrada de ceros, con las dimensiones dadas\n",
        "A = np.zeros((filas1,filas1))      \n",
        " #llenamos la matriz 1 con los datos del usuario\n",
        "print (\"Ingrese la primer matriz\")\n",
        "\n",
        "for i in range(filas1):\n",
        "        for j in range(filas1):\n",
        "            A[i][j] = float(input('Elemento (%d,%d): ' % (i, j)))\n",
        "print( \"su matriz es:\")\n",
        "print(A)\n",
        "#Calculamos la matriz inversa\n",
        "B= np.linalg.inv(A)\n",
        "#pedimos que imprima la matriz inversa \n",
        "print(\" La matriz Inversa es: \")\n",
        "print(B)\n"
      ],
      "metadata": {
        "colab": {
          "base_uri": "https://localhost:8080/"
        },
        "id": "zTe3kLUEfezu",
        "outputId": "c07bf163-5101-4ed2-eb4e-52ab14e38901"
      },
      "execution_count": null,
      "outputs": [
        {
          "output_type": "stream",
          "name": "stdout",
          "text": [
            "Indique el número de filas y columnas de la matriz: 3\n",
            "Ingrese la primer matriz\n",
            "Elemento (0,0): 3\n",
            "Elemento (0,1): 4\n",
            "Elemento (0,2): 5\n",
            "Elemento (1,0): 6\n",
            "Elemento (1,1): 7\n",
            "Elemento (1,2): 8\n",
            "Elemento (2,0): 1\n",
            "Elemento (2,1): 2\n",
            "Elemento (2,2): 9\n",
            "su matriz es:\n",
            "[[3. 4. 5.]\n",
            " [6. 7. 8.]\n",
            " [1. 2. 9.]]\n",
            " La matriz Inversa es: \n",
            "[[-2.61111111  1.44444444  0.16666667]\n",
            " [ 2.55555556 -1.22222222 -0.33333333]\n",
            " [-0.27777778  0.11111111  0.16666667]]\n"
          ]
        }
      ]
    },
    {
      "cell_type": "markdown",
      "source": [
        "###**El método de eliminación de Gauss**\n",
        "El método de eliminación de Gauss, también conocido como eliminación gaussiana, es un algoritmo utilizado para resolver sistemas de ecuaciones lineales. El método se basa en la eliminación sucesiva de incógnitas mediante operaciones elementales de fila, con el objetivo de reducir el sistema original a una forma escalonada o triangular.\n",
        "\n",
        "El procedimiento del método de Gauss se puede resumir en los siguientes pasos:\n",
        "\n",
        "1. Escribir el sistema de ecuaciones lineales en forma matricial, utilizando una matriz de coeficientes y una matriz de términos independientes.\n",
        "\n",
        "2. Aplicar operaciones elementales de fila para obtener una matriz escalonada o triangular superior, donde los elementos debajo de la diagonal principal son ceros.\n",
        "\n",
        "3. Resolver el sistema resultante de manera sistemática, comenzando desde la última ecuación y retrocediendo hacia las ecuaciones anteriores, sustituyendo las incógnitas ya resueltas.\n",
        "\n",
        "4. Obtener las soluciones de las incógnitas una vez que el sistema se haya reducido a una forma escalonada o triangular superior.\n",
        "\n",
        "El método de Gauss es ampliamente utilizado debido a su eficacia y simplicidad en la resolución de sistemas de ecuaciones lineales. Sin embargo, es importante tener en cuenta que el método puede presentar limitaciones en casos particulares, como sistemas con coeficientes muy grandes o matrices singulares."
      ],
      "metadata": {
        "id": "CZT5Cz1XgAaW"
      }
    },
    {
      "cell_type": "markdown",
      "source": [
        "### **Factorización LU**\n",
        "Proceso de descomposición de una matriz cuadrada en el producto de dos matrices triangulares: una matriz triangular inferior (L) y una matriz triangular superior (U). Esta descomposición se representa como $A = LU$, donde A es la matriz original y L y U son las matrices resultantes de la factorización.\n",
        "\n",
        "La matriz triangular inferior L tiene unos en la diagonal principal y ceros en los elementos superiores, mientras que la matriz triangular superior U tiene elementos distintos de cero en la diagonal principal y en los elementos inferiores.\n",
        "\n",
        "La factorización LU es utilizada en álgebra lineal numérica para resolver sistemas de ecuaciones lineales, calcular determinantes e inversas de matrices, y realizar otras operaciones relacionadas con matrices de manera eficiente.\n",
        "\n",
        "Una vez que se ha obtenido la factorización LU de una matriz, se puede utilizar para resolver sistemas de ecuaciones lineales más rápido que mediante otros métodos, como el método de eliminación de Gauss. La factorización LU también puede ser útil en casos en los que se necesita resolver múltiples sistemas de ecuaciones con la misma matriz de coeficientes, ya que la factorización se realiza solo una vez y luego se pueden resolver los sistemas de manera más eficiente."
      ],
      "metadata": {
        "id": "BDXkLeItiEsa"
      }
    },
    {
      "cell_type": "code",
      "source": [
        "import numpy as np\n",
        "import scipy.linalg\n",
        "\n",
        "# Definir la matriz original\n",
        "A = np.array([[2, 1, 3],\n",
        "              [1, 4, 1],\n",
        "              [3, 1, -1]])\n",
        "\n",
        "# Realizar la factorización LU\n",
        "P, L, U = scipy.linalg.lu(A)\n",
        "\n",
        "# Imprimir las matrices L y U\n",
        "print(\"Matriz L:\")\n",
        "print(L)\n",
        "print(\"Matriz U:\")\n",
        "print(U)\n"
      ],
      "metadata": {
        "colab": {
          "base_uri": "https://localhost:8080/"
        },
        "id": "7zH825f-l2Cf",
        "outputId": "02272384-d1e9-4d89-b038-fa9dac4c7061"
      },
      "execution_count": null,
      "outputs": [
        {
          "output_type": "stream",
          "name": "stdout",
          "text": [
            "Matriz L:\n",
            "[[1.         0.         0.        ]\n",
            " [0.33333333 1.         0.        ]\n",
            " [0.66666667 0.09090909 1.        ]]\n",
            "Matriz U:\n",
            "[[ 3.          1.         -1.        ]\n",
            " [ 0.          3.66666667  1.33333333]\n",
            " [ 0.          0.          3.54545455]]\n"
          ]
        }
      ]
    },
    {
      "cell_type": "markdown",
      "source": [
        "#ESPACIOS VECTORIALES\n",
        "Un espacio vectorial es un conjunto de elementos llamados vectores que cumplen ciertas propiedades y se pueden sumar entre sí y multiplicar por escalares. Formalmente, un espacio vectorial se define como un conjunto V junto con dos operaciones, la suma vectorial y la multiplicación por un escalar, que satisfacen ciertas propiedades:\n",
        "\n",
        "1. Cerrado bajo la suma vectorial: Para cualquier par de vectores u y v en V, la suma u + v también está en V. Esto significa que la suma de dos vectores en el espacio vectorial sigue estando en el mismo espacio.\n",
        "\n",
        "2. Cerrado bajo la multiplicación por un escalar: Para cualquier vector u en V y cualquier escalar k, el producto k * u también está en V. Esto implica que multiplicar un vector por un escalar resulta en otro vector del mismo espacio.\n",
        "\n",
        "3. Asociatividad de la suma vectorial: La suma vectorial es asociativa, es decir, para cualquier triple de vectores u, v y w en V, se cumple que (u + v) + w = u + (v + w).\n",
        "\n",
        "4. Existencia del vector cero: Existe un vector en V, llamado vector cero y denotado por 0, tal que u + 0 = u para cualquier vector u en V. El vector cero actúa como el elemento neutro para la suma vectorial.\n",
        "\n",
        "5. Existencia del inverso aditivo: Para cada vector u en V, existe un vector en V, denotado por -u, tal que u + (-u) = 0. Este vector es el inverso aditivo de u.\n",
        "\n",
        "6. Distributividad de la multiplicación por escalares: Para cualquier escalar k y cualquier par de vectores u y v en V, se cumple que k * (u + v) = k * u + k * v.\n",
        "\n",
        "7. Distributividad de la multiplicación por escalares: Para cualquier par de escalares k y l y cualquier vector u en V, se cumple que (k + l) * u = k * u + l * u.\n",
        "\n",
        "8. Asociatividad de la multiplicación por escalares: Para cualquier escalar k, l y cualquier vector u en V, se cumple que (k * l) * u = k * (l * u).\n",
        "\n",
        "Estas propiedades garantizan que un conjunto de vectores junto con las operaciones de suma vectorial y multiplicación por escalares formen un espacio vectorial.\n",
        "\n",
        "Ejemplos de espacios vectoriales incluyen:\n",
        "\n",
        "El espacio R^n de todos los vectores de n componentes.\n",
        "El espacio de matrices de tamaño m x n.\n",
        "El espacio de polinomios de grado menor o igual a n.\n",
        "El espacio de funciones continuas en un intervalo dado.\n",
        "El espacio de soluciones de un sistema de ecuaciones lineales homogéneas.\n",
        "En cada uno de estos ejemplos, se puede verificar que los conjuntos de vectores y las operaciones de suma y multiplicación por escalares cumplen las propiedades mencionadas anteriormente, lo que los convierte en espacios vectoriales.\n",
        "##**Subespacios vectoriales**\n",
        "Un subespacio vectorial es un conjunto de vectores que cumple con las propiedades de un espacio vectorial. Es decir, un subespacio vectorial es un subconjunto de un espacio vectorial más grande que también es un espacio vectorial en sí mismo. Los subespacios vectoriales comparten las mismas operaciones de suma vectorial y multiplicación por escalares que el espacio vectorial del cual son subconjuntos.\n",
        "\n",
        "Para que un conjunto de vectores sea considerado un subespacio vectorial, debe cumplir con las siguientes condiciones:\n",
        "\n",
        "1. Contiene el vector cero: El subespacio vectorial debe incluir al vector cero, que es el vector que no produce ningún cambio al ser sumado a otros vectores.\n",
        "\n",
        "2. Cerrado bajo la suma: Si se toman dos vectores cualquiera del subespacio vectorial y se realiza la operación de suma entre ellos, el resultado también debe estar en el subespacio.\n",
        "\n",
        "3. Cerrado bajo la multiplicación por un escalar: Si se toma un vector cualquiera del subespacio vectorial y se realiza la multiplicación por un escalar, el resultado debe estar en el subespacio.\n",
        "\n",
        "Un subespacio vectorial puede ser generado por un conjunto de vectores llamados subespacios generadores. Los subespacios generadores son conjuntos de vectores que, mediante combinaciones lineales, pueden generar todos los vectores dentro del subespacio. En otras palabras, los subespacios generadores son conjuntos mínimos de vectores que pueden generar el subespacio vectorial.\n",
        "\n",
        "Por ejemplo, considera el espacio vectorial R^2 (los vectores de dos dimensiones). El conjunto de vectores {(1, 0), (0, 1)} es un subespacio generador de R^2, ya que cualquier vector en R^2 se puede expresar como una combinación lineal de estos dos vectores."
      ],
      "metadata": {
        "id": "WsNjXHQlpoRy"
      }
    },
    {
      "cell_type": "code",
      "source": [
        "import numpy as np\n",
        "# Definir una matriz de ejemplo\n",
        "matriz = np.array([[1, 2, 3],\n",
        "[4, 5, 6],\n",
        "[7, 8, 9]])\n",
        "# Definir un vector de ejemplo\n",
        "vector = np.array([1, 2, 3])\n",
        "# Comprobar si el vector pertenece al subespacio generado por las columnas de la matriz\n",
        "perteneciente = np.allclose(matriz @ vector, 0)\n",
        "# Imprimir el resultado\n",
        "if perteneciente: print(\"El vector pertenece al subespacio generado por las columnas de la matriz.\")\n",
        "else: print(\"El vector no pertenece al subespacio generado por las columnas de la matriz.\")\n"
      ],
      "metadata": {
        "colab": {
          "base_uri": "https://localhost:8080/"
        },
        "id": "sgJJa0lqq9XM",
        "outputId": "b2e0ae8f-fd22-4e3d-a058-652ed20bc32c"
      },
      "execution_count": null,
      "outputs": [
        {
          "output_type": "stream",
          "name": "stdout",
          "text": [
            "El vector no pertenece al subespacio generado por las columnas de la matriz.\n"
          ]
        }
      ]
    },
    {
      "cell_type": "markdown",
      "source": [
        "##**Combinación lineal**: \n",
        "En el contexto de vectores, la combinación lineal es una operación que involucra la multiplicación de cada vector por un escalar y la suma de los resultados. Formalmente, dada una colección de vectores {v₁, v₂, ..., vₙ} y una colección correspondiente de escalares {c₁, c₂, ..., cₙ}, la combinación lineal de los vectores se define como la suma ponderada de los vectores multiplicados por sus respectivos escalares: c₁v₁ + c₂v₂ + ... + cₙvₙ. La combinación lineal permite generar nuevos vectores a partir de una colección existente mediante la manipulación de los coeficientes escalares."
      ],
      "metadata": {
        "id": "6BCMVcRxrvMs"
      }
    },
    {
      "cell_type": "code",
      "source": [
        "import numpy as np\n",
        "\n",
        "# Definir los vectores\n",
        "v1 = np.array([1, 2, 3])\n",
        "v2 = np.array([4, 5, 6])\n",
        "\n",
        "# Definir los coeficientes\n",
        "c1 = 2\n",
        "c2 = -1\n",
        "\n",
        "# Realizar la combinación lineal\n",
        "combinacion = c1 * v1 + c2 * v2\n",
        "\n",
        "print(\"Combinación lineal:\", combinacion)\n"
      ],
      "metadata": {
        "colab": {
          "base_uri": "https://localhost:8080/"
        },
        "id": "ebGkXX-2sJoT",
        "outputId": "87c49db9-6e14-44a2-995d-f81e6fae23a4"
      },
      "execution_count": null,
      "outputs": [
        {
          "output_type": "stream",
          "name": "stdout",
          "text": [
            "Combinación lineal: [-2 -1  0]\n"
          ]
        }
      ]
    },
    {
      "cell_type": "markdown",
      "source": [
        "##**Dependencia lineal**:\n",
        "Un conjunto de vectores se considera linealmente dependiente si al menos uno de los vectores puede expresarse como una combinación lineal de los demás vectores del conjunto. En otras palabras, si existen escalares no todos iguales a cero {c₁, c₂, ..., cₙ}, tales que c₁v₁ + c₂v₂ + ... + cₙvₙ = 0, con al menos uno de los coeficientes diferentes de cero, entonces los vectores son linealmente dependientes. Esto implica que al menos uno de los vectores puede obtenerse como una combinación lineal de los demás."
      ],
      "metadata": {
        "id": "j93cEDKosOLR"
      }
    },
    {
      "cell_type": "code",
      "source": [
        "import numpy as np\n",
        "\n",
        "# Definir los vectores\n",
        "v1 = np.array([1, 2, 3])\n",
        "v2 = np.array([2, 4, 6])\n",
        "v3 = np.array([3, 6, 9])\n",
        "\n",
        "# Comprobar si los vectores son linealmente dependientes\n",
        "matrix = np.vstack((v1, v2, v3))\n",
        "rank = np.linalg.matrix_rank(matrix)\n",
        "\n",
        "if rank < len(matrix):\n",
        "    print(\"Los vectores son linealmente dependientes.\")\n",
        "else:\n",
        "    print(\"Los vectores son linealmente independientes.\")\n"
      ],
      "metadata": {
        "colab": {
          "base_uri": "https://localhost:8080/"
        },
        "id": "c8Wc5FVRsf9h",
        "outputId": "207336bc-03de-4de9-8dbc-923293535cb5"
      },
      "execution_count": null,
      "outputs": [
        {
          "output_type": "stream",
          "name": "stdout",
          "text": [
            "Los vectores son linealmente dependientes.\n"
          ]
        }
      ]
    },
    {
      "cell_type": "markdown",
      "source": [
        "##**Independencia lineal**:\n",
        "Un conjunto de vectores se considera linealmente independiente si no existen escalares no todos iguales a cero que puedan generar la suma cero cuando se realiza una combinación lineal de los vectores. En otras palabras, los vectores son linealmente independientes si la única combinación lineal que produce cero es aquella en la que todos los coeficientes son iguales a cero. Formalmente, un conjunto de vectores {v₁, v₂, ..., vₙ} se considera linealmente independiente si la ecuación c₁v₁ + c₂v₂ + ... + cₙvₙ = 0 solo tiene una solución trivial, es decir, c₁ = c₂ = ... = cₙ = 0"
      ],
      "metadata": {
        "id": "bQGMSDFQsshT"
      }
    },
    {
      "cell_type": "code",
      "source": [
        "import numpy as np\n",
        "\n",
        "# Definir los vectores\n",
        "v1 = np.array([1, 0, 0])\n",
        "v2 = np.array([0, 1, 0])\n",
        "v3 = np.array([0, 0, 1])\n",
        "\n",
        "# Comprobar si los vectores son linealmente independientes\n",
        "matrix = np.vstack((v1, v2, v3))\n",
        "rank = np.linalg.matrix_rank(matrix)\n",
        "\n",
        "if rank == len(matrix):\n",
        "    print(\"Los vectores son linealmente independientes.\")\n",
        "else:\n",
        "    print(\"Los vectores son linealmente dependientes.\")\n"
      ],
      "metadata": {
        "colab": {
          "base_uri": "https://localhost:8080/"
        },
        "id": "yQxloixSs6YM",
        "outputId": "1e890174-194c-4743-94c3-f428db11fddf"
      },
      "execution_count": null,
      "outputs": [
        {
          "output_type": "stream",
          "name": "stdout",
          "text": [
            "Los vectores son linealmente independientes.\n"
          ]
        }
      ]
    },
    {
      "cell_type": "code",
      "source": [
        "#Importamos la libreria numpy\n",
        "import numpy as np\n",
        "\n",
        "# Los vectores linealmente independientes (En este ejemplo, tenemos 3 vectores en un espacio 3-dimensional)\n",
        "v1 = np.array([1, 2, 2])\n",
        "v2 = np.array([4, 5, 6])\n",
        "v3 = np.array([7, 8, 9])\n",
        "\n",
        "# El vector que queremos expresar como una combinación lineal de vectores independientes ((0,0,0))\n",
        "target = np.array([0, 0, 0])\n",
        "\n",
        "#Creamos una matriz con los vectores independientes como columnas\n",
        "matrix = np.column_stack((v1, v2, v3))\n",
        "\n",
        "#Resolvemos el sistema lineal para encontrar los coeficientes\n",
        "coefficients = np.linalg.solve(matrix, target)\n",
        "\n",
        "print(\"Coefficients:\", coefficients)"
      ],
      "metadata": {
        "colab": {
          "base_uri": "https://localhost:8080/"
        },
        "id": "aeVx3Izkt7Sj",
        "outputId": "7e4a6639-42c0-4b7a-b270-8946fc79366a"
      },
      "execution_count": null,
      "outputs": [
        {
          "output_type": "stream",
          "name": "stdout",
          "text": [
            "Coefficients: [ 0.  0. -0.]\n"
          ]
        }
      ]
    },
    {
      "cell_type": "markdown",
      "source": [
        "##**Base y dimensión**\n",
        "Una base de un espacio vectorial es un conjunto de vectores que son linealmente independientes y generan todo el espacio. En otras palabras, cualquier vector en el espacio puede ser expresado como una combinación lineal de los vectores de la base.\n",
        "\n",
        "La dimensión de un espacio vectorial es el número de vectores en cualquier base del espacio. Es una medida de la \"cantidad\" de vectores necesarios para generar el espacio.\n",
        "\n",
        "Un ejemplo común es el espacio vectorial R³, que consiste en todas las tuplas de tres números reales. Una base común para R³ está formada por los vectores canónicos: v1 = (1, 0, 0), v2 = (0, 1, 0) y v3 = (0, 0, 1). Estos vectores son linealmente independientes y cualquier vector en R³ puede ser expresado como una combinación lineal de ellos.\n",
        "\n",
        "La dimensión del espacio vectorial R³ es 3, ya que se necesitan tres vectores (la base) para generar todo el espacio."
      ],
      "metadata": {
        "id": "8tUNKISuvQ6q"
      }
    },
    {
      "cell_type": "code",
      "source": [
        "import numpy as np\n",
        "\n",
        "# Definir una matriz de ejemplo\n",
        "A = np.array([[1, 2, 3],\n",
        "              [4, 5, 6],\n",
        "              [7, 8, 9]])\n",
        "\n",
        "# Obtener la dimensión de la matriz\n",
        "dimension = np.linalg.matrix_rank(A)\n",
        "\n",
        "# Obtener una base del espacio generado por los vectores fila de la matriz\n",
        "base = np.linalg.qr(A, mode='complete')[0]\n",
        "\n",
        "print(\"La dimensión del espacio generado por la matriz es:\", dimension)\n",
        "print(\"Una base del espacio generado por la matriz es:\")\n",
        "print(base)\n"
      ],
      "metadata": {
        "colab": {
          "base_uri": "https://localhost:8080/"
        },
        "id": "y4fSq9cAv4Tc",
        "outputId": "cd0c3812-6185-4a57-9549-e6cc0b029edf"
      },
      "execution_count": null,
      "outputs": [
        {
          "output_type": "stream",
          "name": "stdout",
          "text": [
            "La dimensión del espacio generado por la matriz es: 2\n",
            "Una base del espacio generado por la matriz es:\n",
            "[[-0.12309149  0.90453403  0.40824829]\n",
            " [-0.49236596  0.30151134 -0.81649658]\n",
            " [-0.86164044 -0.30151134  0.40824829]]\n"
          ]
        }
      ]
    },
    {
      "cell_type": "markdown",
      "source": [
        "##**Coordenadas y matriz cambio de base**\n",
        "Las coordenadas son representaciones numéricas de un vector en relación a una base específica. La matriz de cambio de base es una matriz que permite transformar las coordenadas de un vector de una base a otra.\n",
        "\n",
        "Supongamos que tenemos dos bases B y B' en un espacio vectorial V. Si tenemos un vector v en V, podemos expresar sus coordenadas en relación a la base B como [v]B y en relación a la base B' como [v]B'. La matriz de cambio de base P es una matriz que nos permite transformar las coordenadas de [v]B a [v]B' mediante la multiplicación matricial.\n",
        "\n",
        "La matriz de cambio de base se construye tomando los vectores de la base B' y expresándolos en términos de la base B. Estos vectores se colocan como columnas de la matriz de cambio de base P."
      ],
      "metadata": {
        "id": "HaYDcIMlwCJf"
      }
    },
    {
      "cell_type": "code",
      "source": [
        "import numpy as np\n",
        "\n",
        "# Definir las bases B y B'\n",
        "B = np.array([[1, 0],\n",
        "              [0, 1]])\n",
        "\n",
        "B_prime = np.array([[2, 1],\n",
        "                    [1, -1]])\n",
        "\n",
        "# Definir las coordenadas de un vector v en relación a la base B\n",
        "v_B = np.array([3, 4])\n",
        "\n",
        "# Calcular las coordenadas de v en relación a la base B'\n",
        "P = np.linalg.inv(B) @ B_prime\n",
        "v_B_prime = P @ v_B\n",
        "\n",
        "print(\"Coordenadas de v en relación a la base B:\", v_B)\n",
        "print(\"Coordenadas de v en relación a la base B':\", v_B_prime)\n",
        "\n"
      ],
      "metadata": {
        "colab": {
          "base_uri": "https://localhost:8080/"
        },
        "id": "bPvmF5qDwd3u",
        "outputId": "374f9d34-bff4-4397-f5a7-614957969433"
      },
      "execution_count": null,
      "outputs": [
        {
          "output_type": "stream",
          "name": "stdout",
          "text": [
            "Coordenadas de v en relación a la base B: [3 4]\n",
            "Coordenadas de v en relación a la base B': [10. -1.]\n"
          ]
        }
      ]
    },
    {
      "cell_type": "code",
      "source": [
        "import numpy as np\n",
        "# Definir la matriz de cambio de base\n",
        "matriz_cambio_base = np.array([[2, -1],\n",
        "[3, 4]])\n",
        "# Definir el vector en la base original\n",
        "vector_base_original = np.array([1, 2])\n",
        "# Calcular el vector en la nueva base\n",
        "vector_base_nueva = np.dot(matriz_cambio_base, vector_base_original)\n",
        "# Imprimir los resultados\n",
        "print(\"Vector en la base original:\", vector_base_original)\n",
        "print(\"Vector en la nueva base:\", vector_base_nueva)"
      ],
      "metadata": {
        "colab": {
          "base_uri": "https://localhost:8080/"
        },
        "id": "pg9h9NcqwuFU",
        "outputId": "16310a8c-a0c3-4804-9ccc-f56e388b1725"
      },
      "execution_count": null,
      "outputs": [
        {
          "output_type": "stream",
          "name": "stdout",
          "text": [
            "Vector en la base original: [1 2]\n",
            "Vector en la nueva base: [ 0 11]\n"
          ]
        }
      ]
    },
    {
      "cell_type": "markdown",
      "source": [
        "##**Bases ortogonales y ortonormales**\n",
        "Una base ortogonal es un conjunto de vectores en el cual todos los vectores son perpendiculares entre sí. Esto significa que el producto escalar entre cualquier par de vectores de la base es cero.\n",
        "\n",
        "Por otro lado, una base ortonormal es una base ortogonal en la cual todos los vectores tienen longitud unitaria, es decir, su norma es igual a 1. Además de ser perpendiculares entre sí, los vectores de una base ortonormal también están normalizados.\n",
        "\n",
        "La ventaja de tener una base ortogonal o ortonormal es que simplifica muchos cálculos y facilita el análisis de los vectores y las operaciones en el espacio vectorial. En particular, las bases ortonormales son especialmente útiles ya que no solo son ortogonales, sino que también tienen una norma unitaria, lo que las hace muy convenientes para representar vectores y realizar cálculos de forma más sencilla.\n"
      ],
      "metadata": {
        "id": "aeH409obwztB"
      }
    },
    {
      "cell_type": "code",
      "source": [
        "import numpy as np\n",
        "\n",
        "# Definir una base ortogonal\n",
        "v1 = np.array([1, 0, 0])\n",
        "v2 = np.array([0, 1, 0])\n",
        "v3 = np.array([0, 0, 1])\n",
        "\n",
        "# Verificar que los vectores son ortogonales\n",
        "print(\"Producto escalar v1 · v2:\", np.dot(v1, v2))\n",
        "print(\"Producto escalar v1 · v3:\", np.dot(v1, v3))\n",
        "print(\"Producto escalar v2 · v3:\", np.dot(v2, v3))\n",
        "\n",
        "# Definir una base ortonormal\n",
        "u1 = v1 / np.linalg.norm(v1)\n",
        "u2 = v2 / np.linalg.norm(v2)\n",
        "u3 = v3 / np.linalg.norm(v3)\n",
        "\n",
        "# Verificar que los vectores son ortonormales\n",
        "print(\"Norma de u1:\", np.linalg.norm(u1))\n",
        "print(\"Norma de u2:\", np.linalg.norm(u2))\n",
        "print(\"Norma de u3:\", np.linalg.norm(u3))\n",
        "print(\"Producto escalar u1 · u2:\", np.dot(u1, u2))\n",
        "print(\"Producto escalar u1 · u3:\", np.dot(u1, u3))\n",
        "print(\"Producto escalar u2 · u3:\", np.dot(u2, u3))\n"
      ],
      "metadata": {
        "colab": {
          "base_uri": "https://localhost:8080/"
        },
        "id": "SzNZdrE4xVJc",
        "outputId": "2a50e91f-ada6-4694-a254-f1c493419db2"
      },
      "execution_count": null,
      "outputs": [
        {
          "output_type": "stream",
          "name": "stdout",
          "text": [
            "Producto escalar v1 · v2: 0\n",
            "Producto escalar v1 · v3: 0\n",
            "Producto escalar v2 · v3: 0\n",
            "Norma de u1: 1.0\n",
            "Norma de u2: 1.0\n",
            "Norma de u3: 1.0\n",
            "Producto escalar u1 · u2: 0.0\n",
            "Producto escalar u1 · u3: 0.0\n",
            "Producto escalar u2 · u3: 0.0\n"
          ]
        }
      ]
    },
    {
      "cell_type": "markdown",
      "source": [
        "###**Proceso de Gram-Schmidt**\n",
        "El proceso de Gram-Schmidt es un método utilizado para transformar una base linealmente independiente en una base ortogonal o ortonormal en un espacio vectorial.\n",
        "\n",
        "El proceso de Gram-Schmidt se realiza de la siguiente manera:\n",
        "\n",
        "Sea {v1, v2, ..., vn} una base linealmente independiente en un espacio vectorial V.\n",
        "Definimos una nueva base {u1, u2, ..., un} donde:\n",
        "u1 = v1 (el primer vector de la base se mantiene igual).\n",
        "Para i = 2 hasta n, hacemos lo siguiente:\n",
        "Calculamos el proyección ortogonal de vi sobre los vectores anteriores:\n",
        "ui = vi - Proj_{u1, u2, ..., ui-1}(vi), donde Proj_{u1, u2, ..., ui-1}(vi) es la proyección ortogonal de vi sobre el subespacio generado por {u1, u2, ..., ui-1}.\n",
        "Normalizamos el vector ui dividiéndolo por su norma: ui = ui / ||ui||.\n",
        "Al finalizar el proceso, obtendremos una nueva base {u1, u2, ..., un} que es una base ortogonal o ortonormal en el espacio vectorial V."
      ],
      "metadata": {
        "id": "KlrjgV6fyoS1"
      }
    },
    {
      "cell_type": "code",
      "source": [
        "import numpy as np\n",
        "\n",
        "# Definir una base linealmente independiente\n",
        "v1 = np.array([1, 2, 1])\n",
        "v2 = np.array([1, 0, -1])\n",
        "v3 = np.array([2, -1, 1])\n",
        "\n",
        "# Aplicar el proceso de Gram-Schmidt\n",
        "u1 = v1\n",
        "u2 = v2 - np.dot(v2, u1) / np.dot(u1, u1) * u1\n",
        "u3 = v3 - np.dot(v3, u1) / np.dot(u1, u1) * u1 - np.dot(v3, u2) / np.dot(u2, u2) * u2\n",
        "\n",
        "# Normalizar los vectores\n",
        "u1 = u1 / np.linalg.norm(u1)\n",
        "u2 = u2 / np.linalg.norm(u2)\n",
        "u3 = u3 / np.linalg.norm(u3)\n",
        "\n",
        "# Imprimir los vectores de la nueva base\n",
        "print(\"u1:\", u1)\n",
        "print(\"u2:\", u2)\n",
        "print(\"u3:\", u3)\n"
      ],
      "metadata": {
        "colab": {
          "base_uri": "https://localhost:8080/"
        },
        "id": "C-CPrv7byylS",
        "outputId": "dd5fe8ba-776d-4c6c-f9aa-ef162a9c6bb1"
      },
      "execution_count": null,
      "outputs": [
        {
          "output_type": "stream",
          "name": "stdout",
          "text": [
            "u1: [0.40824829 0.81649658 0.40824829]\n",
            "u2: [ 0.70710678  0.         -0.70710678]\n",
            "u3: [ 0.57735027 -0.57735027  0.57735027]\n"
          ]
        }
      ]
    },
    {
      "cell_type": "markdown",
      "source": [
        "#CONICAS\n",
        "Definición: Una sección cónica es un lugar geométrico en el que los puntos tienen una relación constante de distancias a un punto fijo llamado foco y a una recta fija llamada directriz. Algunos ejemplos de secciones cónicas que podemos representar en el plano son:\n",
        "\n",
        "* Círculo: Todos los puntos de la sección cónica están a la misma distancia del foco.\n",
        "\n",
        "* Elipse: La suma de las distancias de cada punto a los focos es constante.\n",
        "\n",
        "* Parábola: La distancia de cada punto a un foco es igual a la distancia del mismo punto a la directriz.\n",
        "\n",
        "* Hipérbola: La diferencia de las distancias de cada punto a los focos es constante.\n",
        "\n",
        "Para diferenciar los tipos de secciones cónicas, podemos utilizar el discriminante. Si el discriminante es igual a cero, entonces la sección cónica es una circunferencia. Si el discriminante es mayor que cero, la sección cónica es una elipse si los coeficientes A y C tienen el mismo signo, o una hipérbola si tienen signos opuestos. Si el discriminante es menor que cero, entonces la sección cónica es una parábola.\n",
        "\n",
        "La forma en la que se obtienen las secciones cónicas es haciendo rotar una recta llamada generatriz alrededor de un punto fijo llamado vértice, mientras se mantiene otro punto constantemente sobre una circunferencia llamada directriz, la cual se encuentra en un plano perpendicular al eje y cuyo centro está sobre el eje.\n",
        "###***Conicas importantes***###\n",
        "\n",
        "La circunferencia, la elipse, la parábola o la hipérbola son curvas planas de todos conocidas. Estas curvas aparecían ya en la geometría griega y fueron denominadas secciones cónicas, ya que los griegos de la época de Platón consideraban que tales curvas procedían de la intersección de un cono con un plano.\n",
        "\n",
        "**Ejercicio de Conicas**\n",
        "\n",
        "Escribe un programa en Google Colab que solicite al usuario ingresar los valores de \"h\", \"k\", \"a\" y \"b\".\n",
        "\n",
        "Calcula y muestra en pantalla las siguientes propiedades de la elipse:\n",
        "\n",
        "Coordenadas del centro $(h, k)$.\n",
        "\n",
        "Longitudes de los semiejes $(a, b)$.\n",
        "\n",
        "Distancia focal (c), donde $c = √(a^2 - b^2)$.\n",
        "\n",
        "Distancia entre los focos (2c).\n",
        "\n",
        "Longitud de la cuerda focal (2a).\n",
        "\n",
        "Excentricidad (e), donde $e = c / a$.\n",
        "\n",
        "Área de la elipse (A), donde $A = π * a * b$."
      ],
      "metadata": {
        "id": "qcWpU6Kwp4dT"
      }
    },
    {
      "cell_type": "markdown",
      "source": [
        "##**Elipse**\n",
        "Una elipse es una cónica que se forma cuando un plano corta un cono de doble nappes de forma oblicua. Matemáticamente, una elipse se define como el conjunto de puntos en un plano cuya suma de las distancias a dos puntos fijos, llamados focos, es constante. Los focos de una elipse se encuentran a lo largo del eje mayor de la elipse. La distancia entre los focos se llama distancia focal.\n",
        "\n",
        "La ecuación general de una elipse en un sistema de coordenadas cartesianas es:\n",
        "\n",
        "$(x - h)^2/a^2 + (y - k)^2/b^2 = 1$\n",
        "\n",
        "Donde (h, k) son las coordenadas del centro de la elipse, \"a\" es la semieje mayor y \"b\" es la semieje menor. La distancia focal de una elipse está dada por la fórmula: $c = √(a^2 - b^2)$."
      ],
      "metadata": {
        "id": "AqXGfAMB4QWh"
      }
    },
    {
      "cell_type": "markdown",
      "source": [
        "Cómo calcular:\n",
        "\n",
        "***1. Coordenadas del centro de la elipse:***\n",
        "Las coordenadas del centro de la elipse se denotan como (h, k) y se pueden calcular utilizando la fórmula general de la elipse. Supongamos que la ecuación de la elipse está en la forma estándar:$((x - h)^2 / a^2) + ((y - k)^2 / b^2) = 1$. \n",
        "Donde (h, k) representa las coordenadas del centro, 'a' es la longitud del semieje horizontal y 'b' es la longitud del semieje vertical. Por lo tanto, las coordenadas del centro son (h, k).\n",
        "\n",
        "Ejemplo:\n",
        "Supongamos que tenemos la siguiente ecuación de la elipse:\n",
        "$((x - 2)^2 / 4)$ + $((y + 1)^2 / 9)$ = $1$\n",
        "En este caso, las coordenadas del centro son (2, -1).\n",
        "\n",
        "***2. Longitudes de los semiejes:*** La longitud del semieje horizontal se denota como 'a' y la longitud del semieje vertical se denota como 'b'. Estos valores se pueden obtener directamente de la ecuación de la elipse en forma estándar.\n",
        "\n",
        "Ejemplo:\n",
        "Usando la misma ecuación de la elipse del ejemplo anterior:\n",
        "$((x - 2)^2 / 4)$ + $((y + 1)^2 / 9)$ = $1$\n",
        "La longitud del semieje horizontal 'a' es 2 y la longitud del semieje vertical 'b' es 3.\n",
        "\n",
        "***3. Distancia focal:***\n",
        "La distancia focal de una elipse se puede calcular utilizando la fórmula: $c = sqrt(a^2 - b^2)$ Donde 'c' representa la distancia focal.\n",
        "\n",
        "Ejemplo:\n",
        "Usando las mismas longitudes de semiejes del ejemplo anterior, 'a' = 2 y 'b' = 3. Calculamos la distancia focal 'c': $c = sqrt(2^2 - 3^2) = sqrt(4 - 9) = sqrt(-5)$\n",
        "La distancia focal es sqrt(-5).\n",
        "\n",
        "***4. Distancia entre los focos:***\n",
        "La distancia entre los focos de la elipse se puede calcular como el doble de la distancia focal, es decir:\n",
        "$d = 2c$.\n",
        " Donde 'd' representa la distancia entre los focos.\n",
        "\n",
        "Ejemplo:\n",
        "Siguiendo el ejemplo anterior, si la distancia focal es sqrt(-5), la distancia entre los focos es:\n",
        "$d = 2 * sqrt(-5)$\n",
        "\n",
        "La distancia entre los focos es $2 * sqrt(-5).$\n",
        "\n",
        "***5. Longitud de la cuerda focal:***\n",
        "La longitud de la cuerda focal de una elipse se puede calcular utilizando la fórmula:\n",
        "$l = 2 * sqrt(a^2 + b^2)$. Donde 'l' representa la longitud de la cuerda focal.\n",
        "\n",
        "Ejemplo:\n",
        "Usando las mismas longitudes de semiejes del ejemplo anterior, 'a' = 2 y 'b' = 3. Calculamos la longitud de la cuerda focal 'l':\n",
        "$l = 2 * sqrt(2^2 + 3^2) = 2 * sqrt(4 + 9) = 2 * sqrt(13)$\n",
        "\n",
        "La longitud de la cuerda focal es $2 * sqrt(13).$\n",
        "\n",
        "***6. Excentricidad:***\n",
        "La excentricidad de una elipse se puede calcular utilizando la fórmula:\n",
        "$e = c / a$. Donde 'e' representa la excentricidad.\n",
        "\n",
        "Ejemplo:\n",
        "Usando las mismas longitudes de semiejes y distancia focal del ejemplo anterior, $'a' = 2$ y $'c' = sqrt(-5)$. Calculamos la excentricidad 'e':\n",
        "$e = sqrt(-5) / 2$\n",
        "\n",
        "La excentricidad es $sqrt(-5) / 2.$\n",
        "\n",
        "***7. Área de la elipse:***\n",
        "El área de una elipse se puede calcular utilizando la fórmula:\n",
        "$Área = π * a * b$. Donde 'a' y 'b' son las longitudes de los semiejes.\n",
        "\n",
        "Ejemplo:\n",
        "Usando las mismas longitudes de semiejes del ejemplo anterior, 'a' = 2 y 'b' = 3. Calculamos el área de la elipse:\n",
        "$Área = π * 2 * 3 = 6π$\n",
        "\n",
        "El área de la elipse es $6π$.\n",
        "\n",
        "* Supongamos que tenemos la siguiente elipse con centro en el punto (2, 3), un semieje mayor de longitud 5 y un semieje menor de longitud 3:\n",
        "\n",
        "***8. Coordenadas del centro:*** (h, k) = (2, 3)\n",
        "Longitud del semieje mayor: a = 5\n",
        "Longitud del semieje menor: b = 3\n",
        "Cálculo de los focos:\n",
        "Utilizando la fórmula $c = √(a^2 - b^2)$, podemos calcular la distancia focal:\n",
        "c = √(5^2 - 3^2) = √(25 - 9) = √16 = 4\n",
        "\n",
        "Por lo tanto, los focos de la elipse se encuentran a una distancia de 4 unidades a lo largo del eje mayor desde el centro. Las coordenadas de los focos serían:\n",
        "\n",
        "Foco 1: (2 - 4, 3) = (-2, 3)\n",
        "Foco 2: (2 + 4, 3) = (6, 3)\n",
        "\n",
        "***9. Cálculo de las asíntotas:***\n",
        "Utilizando la ecuación de las asíntotas $y = ± (b / a) * (x - h) + k$, donde (h, k) es el centro de la elipse, a es el semieje mayor y b es el semieje menor, podemos obtener las ecuaciones de las asíntotas:\n",
        "Ecuación de la asíntota 1: y = (3/5) * (x - 2) + 3\n",
        "Ecuación de la asíntota 2: y = -(3/5) * (x - 2) + 3\n",
        "\n",
        "Estas ecuaciones representan las dos rectas que se acercan infinitamente a las ramas de la elipse sin cruzarlas.\n",
        "\n",
        "\n",
        "***10. Cálculo de los vértices:***\n",
        "Para determinar los vértices de la elipse, podemos usar las fórmulas proporcionadas:\n",
        "Vértices en el eje mayor: $(h ± a, k)$\n",
        "Vértices en el eje menor: $(h, k ± b)$\n",
        "\n",
        "Vértices en el eje mayor:\n",
        "Vértice 1: (2 - 5, 3) = (-3, 3)\n",
        "Vértice 2: (2 + 5, 3) = (7, 3)\n",
        "\n",
        "Vértices en el eje menor:\n",
        "Vértice 3: (2, 3 - 3) = (2, 0)\n",
        "Vértice 4: (2, 3 + 3) = (2, 6)\n",
        "\n",
        "Estos vértices son los puntos donde la elipse se cruza con los ejes mayor y menor."
      ],
      "metadata": {
        "id": "9wGvB6N4ZLkW"
      }
    },
    {
      "cell_type": "code",
      "source": [
        "import math\n",
        "\n",
        "# Función para calcular las longitudes de los semiejes\n",
        "def calcular_longitud_semiejes(a, b):\n",
        "    return a, b\n",
        "\n",
        "# Función para calcular la distancia focal\n",
        "def calcular_distancia_focal(a, b):\n",
        "    c = math.sqrt(a**2 - b**2)\n",
        "    return c\n",
        "\n",
        "# Función para calcular la distancia entre los focos\n",
        "def calcular_distancia_focos(c):\n",
        "    d = 2 * c\n",
        "    return d\n",
        "\n",
        "# Función para calcular la longitud de la cuerda focal\n",
        "def calcular_longitud_cuerda_focal(a, b):\n",
        "    l = 2 * math.sqrt(a**2 + b**2)\n",
        "    return l\n",
        "\n",
        "# Función para calcular la excentricidad\n",
        "def calcular_excentricidad(c, a):\n",
        "    e = c / a\n",
        "    return e\n",
        "\n",
        "# Función para calcular el área de la elipse\n",
        "def calcular_area(a, b):\n",
        "    area = math.pi * a * b\n",
        "    return area\n",
        "\n",
        "# Función para calcular los focos de la elipse\n",
        "def calcular_focos(x_centro, y_centro, a, b):\n",
        "    c = math.sqrt(a**2 - b**2)\n",
        "    foco1 = (x_centro - c, y_centro)\n",
        "    foco2 = (x_centro + c, y_centro)\n",
        "    return foco1, foco2\n",
        "\n",
        "# Función para calcular las asíntotas de la elipse\n",
        "def calcular_asintotas(x_centro, y_centro, a, b):\n",
        "    pendiente = b / a\n",
        "    asintota1 = lambda x: pendiente * (x - x_centro) + y_centro\n",
        "    asintota2 = lambda x: -pendiente * (x - x_centro) + y_centro\n",
        "    return asintota1, asintota2\n",
        "\n",
        "# Función para calcular los vértices de la elipse\n",
        "def calcular_vertices(x_centro, y_centro, a, b):\n",
        "    vertice1 = (x_centro - a, y_centro)\n",
        "    vertice2 = (x_centro + a, y_centro)\n",
        "    vertice3 = (x_centro, y_centro - b)\n",
        "    vertice4 = (x_centro, y_centro + b)\n",
        "    return vertice1, vertice2, vertice3, vertice4\n",
        "\n",
        "# Solicitar al usuario que ingrese los valores de los semiejes\n",
        "a = float(input(\"Ingresa el valor del semieje horizontal (a): \"))\n",
        "b = float(input(\"Ingresa el valor del semieje vertical (b): \"))\n",
        "\n",
        "# Solicitar al usuario que ingrese las coordenadas del centro\n",
        "x_centro = float(input(\"Ingresa la coordenada x del centro: \"))\n",
        "y_centro = float(input(\"Ingresa la coordenada y del centro: \"))\n",
        "\n",
        "# Calcular las coordenadas del centro\n",
        "centro = (x_centro, y_centro)\n",
        "print(\"Coordenadas del centro:\", centro)\n",
        "\n",
        "# Calcular longitudes de los semiejes\n",
        "semiejes = calcular_longitud_semiejes(a, b)\n",
        "print(\"Longitudes de los semiejes:\", semiejes)\n",
        "\n",
        "# Calcular distancia focal\n",
        "c = calcular_distancia_focal(a, b)\n",
        "print(\"Distancia focal:\", c)\n",
        "\n",
        "# Calcular distancia entre los focos\n",
        "d = calcular_distancia_focos(c)\n",
        "print(\"Distancia entre los focos:\", d)\n",
        "\n",
        "# Calcular longitud de la cuerda focal\n",
        "longitud_cuerda_focal = calcular_longitud_cuerda_focal(a, b)\n",
        "print(\"Longitud de la cuerda focal:\", longitud_cuerda_focal)\n",
        "\n",
        "# Calcular excentricidad\n",
        "excentricidad = calcular_excentricidad(c, a)\n",
        "print(\"Excentricidad:\", excentricidad)\n",
        "\n",
        "# Calcular área de la elipse\n",
        "area = calcular_area(a, b)\n",
        "print(\"Área de la elipse:\", area)\n",
        "\n",
        "# Calcular focos de la elipse\n",
        "foco1, foco2 = calcular_focos(x_centro, y_centro, a, b)\n",
        "print(\"Foco 1:\", foco1)\n",
        "print(\"Foco 2:\", foco2)\n",
        "\n",
        "# Calcular asíntotas de la elipse\n",
        "asintota1, asintota2 = calcular_asintotas(x_centro, y_centro, a, b)\n",
        "print(\"Asíntota 1: y =\", asintota1)\n",
        "print(\"Asíntota 2: y =\", asintota2)\n",
        "\n",
        "# Calcular vértices de la elipse\n",
        "vertice1, vertice2, vertice3, vertice4 = calcular_vertices(x_centro, y_centro, a, b)\n",
        "print(\"Vértice 1:\", vertice1)\n",
        "print(\"Vértice 2:\", vertice2)\n",
        "print(\"Vértice 3:\", vertice3)\n",
        "print(\"Vértice 4:\", vertice4)\n"
      ],
      "metadata": {
        "colab": {
          "base_uri": "https://localhost:8080/"
        },
        "id": "RpdKkUi41bqm",
        "outputId": "16f658f9-09f3-453e-85b0-d1ac5812001d"
      },
      "execution_count": 4,
      "outputs": [
        {
          "output_type": "stream",
          "name": "stdout",
          "text": [
            "Ingresa el valor del semieje horizontal (a): 3\n",
            "Ingresa el valor del semieje vertical (b): 2\n",
            "Ingresa la coordenada x del centro: 4\n",
            "Ingresa la coordenada y del centro: 5\n",
            "Coordenadas del centro: (4.0, 5.0)\n",
            "Longitudes de los semiejes: (3.0, 2.0)\n",
            "Distancia focal: 2.23606797749979\n",
            "Distancia entre los focos: 4.47213595499958\n",
            "Longitud de la cuerda focal: 7.211102550927978\n",
            "Excentricidad: 0.7453559924999299\n",
            "Área de la elipse: 18.84955592153876\n",
            "Foco 1: (1.7639320225002102, 5.0)\n",
            "Foco 2: (6.23606797749979, 5.0)\n",
            "Asíntota 1: y = <function calcular_asintotas.<locals>.<lambda> at 0x7faa6e666050>\n",
            "Asíntota 2: y = <function calcular_asintotas.<locals>.<lambda> at 0x7faa6e665fc0>\n",
            "Vértice 1: (1.0, 5.0)\n",
            "Vértice 2: (7.0, 5.0)\n",
            "Vértice 3: (4.0, 3.0)\n",
            "Vértice 4: (4.0, 7.0)\n"
          ]
        }
      ]
    },
    {
      "cell_type": "code",
      "source": [
        "import numpy as np\n",
        "import matplotlib.pyplot as plt\n",
        "\n",
        "# Parámetros de la elipse\n",
        "center = (2, 3)  # Centro de la elipse\n",
        "a = 4  # Semieje mayor\n",
        "b = 2  # Semieje menor\n",
        "\n",
        "# Generar puntos en la elipse\n",
        "theta = np.linspace(0, 2*np.pi, 100)\n",
        "x = center[0] + a * np.cos(theta)\n",
        "y = center[1] + b * np.sin(theta)\n",
        "\n",
        "# Graficar la elipse\n",
        "plt.figure()\n",
        "plt.plot(x, y)\n",
        "plt.axis('equal')\n",
        "plt.xlabel('Eje X')\n",
        "plt.ylabel('Eje Y')\n",
        "plt.title('Elipse')\n",
        "plt.grid(True)\n",
        "plt.show()\n"
      ],
      "metadata": {
        "colab": {
          "base_uri": "https://localhost:8080/",
          "height": 472
        },
        "id": "qkw5pZXn4qaU",
        "outputId": "52b3fc5c-63e8-4f26-9ee2-e47d5eb12ffa"
      },
      "execution_count": null,
      "outputs": [
        {
          "output_type": "display_data",
          "data": {
            "text/plain": [
              "<Figure size 640x480 with 1 Axes>"
            ],
            "image/png": "[encoded data removed]"
          },
          "metadata": {}
        }
      ]
    },
    {
      "cell_type": "markdown",
      "source": [
        "##**Hiperbola**\n",
        "Una hipérbola es una cónica que se forma cuando un plano corta un cono de doble nappes de forma más vertical. Matemáticamente, una hipérbola se define como el conjunto de puntos en un plano cuya diferencia de las distancias a dos puntos fijos, llamados focos, es constante. Los focos de una hipérbola también se encuentran a lo largo del eje mayor de la hipérbola. La distancia entre los focos se llama distancia focal.\n",
        "\n",
        "La ecuación general de una hipérbola en un sistema de coordenadas cartesianas es:\n",
        "\n",
        "$(x - h)^2/a^2 - (y - k)^2/b^2 = 1$\n",
        "\n",
        "Donde (h, k) son las coordenadas del centro de la hipérbola, \"a\" es la distancia del centro a los vértices de la hipérbola y \"b\" es la distancia del centro a las asíntotas de la hipérbola. La distancia focal de una hipérbola está dada por la fórmula: $c = √(a^2 + b^2)$."
      ],
      "metadata": {
        "id": "hG_LHIsl41AK"
      }
    },
    {
      "cell_type": "markdown",
      "source": [
        "Como encontrar:\n",
        "***1. Coordenadas del centro de la hipérbola:***\n",
        "Las coordenadas del centro de la hipérbola se denotan como (h, k) y se pueden calcular utilizando la fórmula general de la hipérbola. Supongamos que la ecuación de la hipérbola está en la forma estándar: $((x - h)^2 / a^2) - ((y - k)^2 / b^2) = 1$. \n",
        "Donde (h, k) representa las coordenadas del centro, 'a' es la longitud del semieje horizontal y 'b' es la longitud del semieje vertical. Por lo tanto, las coordenadas del centro son (h, k).\n",
        "\n",
        "Ejemplo:\n",
        "Supongamos que tenemos la siguiente ecuación de la hipérbola: $((x - 2)^2 / 4) - ((y + 1)^2 / 9) = 1$\n",
        "En este caso, las coordenadas del centro son (2, -1).\n",
        "\n",
        "***2. Longitudes de los semiejes:*** \n",
        "La longitud del semieje horizontal se denota como 'a' y la longitud del semieje vertical se denota como 'b'. Estos valores se pueden obtener directamente de la ecuación de la hipérbola en forma estándar.\n",
        "\n",
        "Ejemplo:\n",
        "Usando la misma ecuación de la hipérbola del ejemplo anterior: $((x - 2)^2 / 4) - ((y + 1)^2 / 9) = 1$\n",
        "La longitud del semieje horizontal 'a' es 2 y la longitud del semieje vertical 'b' es 3.\n",
        "\n",
        "***3. Distancia focal:***\n",
        "La distancia focal de una hipérbola se puede calcular utilizando la fórmula: $c = \\sqrt{a^2 + b^2}$. Donde 'c' representa la distancia focal.\n",
        "\n",
        "Ejemplo:\n",
        "Usando las mismas longitudes de semiejes del ejemplo anterior, 'a' = 2 y 'b' = 3. Calculamos la distancia focal 'c': $c = \\sqrt{2^2 + 3^2} = \\sqrt{4 + 9} = \\sqrt{13}$.\n",
        "La distancia focal es $\\sqrt{13}$.\n",
        "\n",
        "***4. Distancia entre los focos:***\n",
        "La distancia entre los focos de la hipérbola se puede calcular como el doble de la distancia focal, es decir:\n",
        "$d = 2c$. Donde 'd' representa la distancia entre los focos.\n",
        "\n",
        "Ejemplo:\n",
        "Siguiendo el ejemplo anterior, si la distancia focal es $\\sqrt{13}$, la distancia entre los focos es:\n",
        "$d = 2 \\sqrt{13}$.\n",
        "\n",
        "La distancia entre los focos es $2 \\sqrt{13}$.\n",
        "\n",
        "***5. Longitud de la cuerda focal:***\n",
        "La longitud de la cuerda focal de una hipérbola se puede calcular utilizando la fórmula:\n",
        "$l = 2 \\sqrt{a^2 + b^2}$. Donde 'l' representa la longitud de la cuerda focal.\n",
        "\n",
        "Ejemplo:\n",
        "Usando las mismas longitudes de semiejes del ejemplo anterior, 'a' = 2 y 'b' = 3. Calculamos la longitud de la cuerda focal 'l':\n",
        "$l = 2 \\sqrt{2^2 + 3^2} = 2 \\sqrt{4 + 9} = 2 \\sqrt{13}$.\n",
        "\n",
        "La longitud de la cuerda focal\n",
        "\n",
        " es $2 \\sqrt{13}$.\n",
        "\n",
        "***6. Excentricidad:***\n",
        "La excentricidad de una hipérbola se puede calcular utilizando la fórmula:\n",
        "$e = c / a$. Donde 'e' representa la excentricidad.\n",
        "\n",
        "Ejemplo:\n",
        "Usando las mismas longitudes de semiejes y distancia focal del ejemplo anterior, $'a' = 2$ y $'c' = \\sqrt{13}$. Calculamos la excentricidad 'e':\n",
        "$e = \\sqrt{13} / 2$\n",
        "\n",
        "La excentricidad es $\\sqrt{13} / 2$.\n",
        "\n",
        "***7. Área de la hipérbola:***\n",
        "El área de una hipérbola no está definida, ya que es una curva abierta. La hipérbola no forma un área cerrada como lo hace un círculo o una elipse.\n",
        "\n",
        "***8. Cálculo de los focos:***\n",
        "Para determinar los focos de la hipérbola, utilizamos las coordenadas del centro (h, k) y la distancia focal 'c'. Los focos se encuentran a una distancia 'c' a lo largo del eje transverso desde el centro.\n",
        "\n",
        "Los focos están ubicados en los puntos (h ± c, k). Para una hipérbola con semieje transverso horizontal, los focos se encuentran en (h ± c, k), y para una hipérbola con semieje transverso vertical, los focos se encuentran en (h, k ± c).\n",
        "\n",
        "***9. Cálculo de las asíntotas:***\n",
        "Las ecuaciones de las asíntotas de una hipérbola se pueden determinar utilizando la ecuación general de la hipérbola y tomando en cuenta el centro (h, k) y las longitudes de los semiejes 'a' y 'b'.\n",
        "\n",
        "Para una hipérbola con semieje transverso horizontal, las ecuaciones de las asíntotas son:\n",
        "$y = k ± (b / a) * (x - h)$\n",
        "\n",
        "Para una hipérbola con semieje transverso vertical, las ecuaciones de las asíntotas son:\n",
        "$y = k ± (a / b) * (x - h)$\n",
        "\n",
        "***10. Cálculo de los vértices:***\n",
        "Para determinar los vértices de la hipérbola, podemos usar las fórmulas proporcionadas:\n",
        "Para una hipérbola con semieje transverso horizontal:\n",
        "- Vértices en el eje transverso: (h ± a, k)\n",
        "- Vértices en el eje conjugado: (h, k ± b)\n",
        "\n",
        "Para una hipérbola con semieje transverso vertical:\n",
        "- Vértices en el eje transverso: (h, k ± a)\n",
        "- Vértices en el eje conjugado: (h ± b, k)\n",
        "\n",
        "Estos vértices son los puntos donde la hipérbola se cruza con los ejes transverso y conjugado.\n",
        "\n",
        "Recuerda que los resultados pueden variar dependiendo de los valores específicos de los semiejes y las coordenadas del centro."
      ],
      "metadata": {
        "id": "Ba6t-XdU10nV"
      }
    },
    {
      "cell_type": "code",
      "source": [
        "import math\n",
        "\n",
        "# Solicitar al usuario ingresar los datos de la hipérbola\n",
        "h = float(input(\"Ingrese la coordenada x del centro de la hipérbola: \"))\n",
        "k = float(input(\"Ingrese la coordenada y del centro de la hipérbola: \"))\n",
        "a = float(input(\"Ingrese la longitud del semieje horizontal (a): \"))\n",
        "b = float(input(\"Ingrese la longitud del semieje vertical (b): \"))\n",
        "\n",
        "# Calcular la distancia focal (c)\n",
        "c = math.sqrt(a**2 + b**2)\n",
        "\n",
        "# Calcular la distancia entre los focos (d)\n",
        "d = 2 * c\n",
        "\n",
        "# Calcular la longitud de la cuerda focal (l)\n",
        "l = 2 * math.sqrt(a**2 + b**2)\n",
        "\n",
        "# Calcular la excentricidad (e)\n",
        "e = c / a\n",
        "\n",
        "# Calcular las coordenadas de los focos\n",
        "foco1 = (h - c, k)\n",
        "foco2 = (h + c, k)\n",
        "\n",
        "# Calcular las ecuaciones de las asíntotas\n",
        "asintota1 = lambda x: k + (b / a) * (x - h)\n",
        "asintota2 = lambda x: k - (b / a) * (x - h)\n",
        "\n",
        "# Calcular las coordenadas de los vértices\n",
        "vertice1 = (h - a, k)\n",
        "vertice2 = (h + a, k)\n",
        "vertice3 = (h, k - b)\n",
        "vertice4 = (h, k + b)\n",
        "\n",
        "# Imprimir los resultados\n",
        "print(\"Resultados:\")\n",
        "print(\"Distancia focal (c):\", c)\n",
        "print(\"Distancia entre los focos (d):\", d)\n",
        "print(\"Longitud de la cuerda focal (l):\", l)\n",
        "print(\"Excentricidad (e):\", e)\n",
        "print(\"Coordenadas de los focos: Foco 1 =\", foco1, \"Foco 2 =\", foco2)\n",
        "print(\"Ecuación de la primera asíntota: y =\", asintota1)\n",
        "print(\"Ecuación de la segunda asíntota: y =\", asintota2)\n",
        "print(\"Coordenadas de los vértices: Vértice 1 =\", vertice1, \"Vértice 2 =\", vertice2, \"Vértice 3 =\", vertice3, \"Vértice 4 =\", vertice4)\n"
      ],
      "metadata": {
        "colab": {
          "base_uri": "https://localhost:8080/"
        },
        "id": "N8q0fYwB2nl-",
        "outputId": "f887b8fb-b0ab-4d30-fe59-89ad0f744db3"
      },
      "execution_count": 5,
      "outputs": [
        {
          "output_type": "stream",
          "name": "stdout",
          "text": [
            "Ingrese la coordenada x del centro de la hipérbola: 4\n",
            "Ingrese la coordenada y del centro de la hipérbola: 3\n",
            "Ingrese la longitud del semieje horizontal (a): 5\n",
            "Ingrese la longitud del semieje vertical (b): 2\n",
            "Resultados:\n",
            "Distancia focal (c): 5.385164807134504\n",
            "Distancia entre los focos (d): 10.770329614269007\n",
            "Longitud de la cuerda focal (l): 10.770329614269007\n",
            "Excentricidad (e): 1.0770329614269007\n",
            "Coordenadas de los focos: Foco 1 = (-1.3851648071345037, 3.0) Foco 2 = (9.385164807134505, 3.0)\n",
            "Ecuación de la primera asíntota: y = <function <lambda> at 0x7faa6f532f80>\n",
            "Ecuación de la segunda asíntota: y = <function <lambda> at 0x7faa6e6663b0>\n",
            "Coordenadas de los vértices: Vértice 1 = (-1.0, 3.0) Vértice 2 = (9.0, 3.0) Vértice 3 = (4.0, 1.0) Vértice 4 = (4.0, 5.0)\n"
          ]
        }
      ]
    },
    {
      "cell_type": "code",
      "source": [
        "import numpy as np\n",
        "import matplotlib.pyplot as plt\n",
        "\n",
        "# Parámetros de la hipérbola\n",
        "center = (2, 3)  # Centro de la hipérbola\n",
        "a = 3  # Semidistancia del centro al vértice\n",
        "b = 2  # Semidistancia del centro al foco\n",
        "\n",
        "# Generar puntos en la hipérbola\n",
        "theta = np.linspace(0, 2*np.pi, 100)\n",
        "x = center[0] + a * np.cosh(theta)\n",
        "y = center[1] + b * np.sinh(theta)\n",
        "\n",
        "# Graficar la hipérbola\n",
        "plt.figure()\n",
        "plt.plot(x, y)\n",
        "plt.axis('equal')\n",
        "plt.xlabel('Eje X')\n",
        "plt.ylabel('Eje Y')\n",
        "plt.title('Hipérbola')\n",
        "plt.grid(True)\n",
        "plt.show()\n"
      ],
      "metadata": {
        "colab": {
          "base_uri": "https://localhost:8080/",
          "height": 472
        },
        "id": "aKP6xIPE5AYz",
        "outputId": "4f113f27-c349-4fca-d74b-ff41be719aaa"
      },
      "execution_count": null,
      "outputs": [
        {
          "output_type": "display_data",
          "data": {
            "text/plain": [
              "<Figure size 640x480 with 1 Axes>"
            ],
            "image/png": "[encoded data removed]"
          },
          "metadata": {}
        }
      ]
    },
    {
      "cell_type": "markdown",
      "source": [
        "##**Parábola**\n",
        "Una parábola es una curva plana que se forma cuando se corta un cono recto con un plano paralelo a uno de los generatrices del cono. Es una curva simétrica que consta de puntos equidistantes de un punto llamado foco y de una línea recta llamada directriz.\n",
        "\n",
        "La ecuación general de una parábola en el plano cartesiano es de la forma $y = ax^2 + bx + c$, donde a, b y c son constantes que determinan la forma, posición y orientación de la parábola."
      ],
      "metadata": {
        "id": "naTrrLq550rA"
      }
    },
    {
      "cell_type": "markdown",
      "source": [
        "***1. Coordenadas del vértice:***\n",
        "Las coordenadas del vértice de una parábola se pueden calcular utilizando la fórmula general de la parábola. Supongamos que la ecuación de la parábola está en la forma estándar: $y = a(x - h)^2 + k$. En esta forma, (h, k) representa las coordenadas del vértice. Por lo tanto, las coordenadas del vértice son (h, k).\n",
        "\n",
        "Ejemplo:\n",
        "Supongamos que tenemos la siguiente ecuación de la parábola: $y = 2(x - 3)^2 + 4$. En este caso, las coordenadas del vértice son (3, 4).\n",
        "\n",
        "***2. Eje de simetría:****\n",
        "El eje de simetría de una parábola es una línea vertical que pasa por el vértice y divide la parábola en dos partes simétricas. El eje de simetría siempre tiene la forma de $x = h$, donde (h, k) son las coordenadas del vértice. Por lo tanto, el eje de simetría es una línea vertical a través de x = h.\n",
        "\n",
        "Ejemplo:\n",
        "Siguiendo el ejemplo anterior, las coordenadas del vértice son (3, 4), por lo que el eje de simetría es la línea vertical x = 3.\n",
        "\n",
        "***3. Foco:***\n",
        "El foco de una parábola se encuentra en el eje de simetría, a una distancia fija desde el vértice. La distancia entre el vértice y el foco se denota como 'p'. Para una parábola con una ecuación de la forma $y = a(x - h)^2 + k$, el foco se encuentra en las coordenadas (h, k + p) si la parábola se abre hacia arriba o hacia abajo, y en las coordenadas (h + p, k) si la parábola se abre hacia la derecha o hacia la izquierda. El valor de 'p' se calcula como 1 / (4a).\n",
        "\n",
        "Ejemplo:\n",
        "Utilizando la misma ecuación de la parábola del ejemplo anterior, donde a = 2, (h, k) = (3, 4), podemos calcular 'p':\n",
        "p = 1 / (4 * 2) = 1 / 8 = 0.125\n",
        "\n",
        "Dado que la parábola se abre hacia arriba, el foco se encuentra en las coordenadas (3, 4 + 0.125) = (3, 4.125).\n",
        "\n",
        "***4. Directriz:***\n",
        "La directriz de una parábola es una línea recta que es equidistante del vértice y el foco. Para una parábola con una ecuación de la forma $y = a(x - h)^2 + k$, la directriz tiene la forma de $y = k - p$ si la parábola se abre hacia arriba o hacia abajo, y de $x = h - p$ si la parábola se abre hacia la derecha o hacia la izquierda. Aquí, 'p' representa la distancia entre el vértice y el foco.\n",
        "\n",
        "Ejemplo:\n",
        "Siguiendo el ejemplo anterior, donde (h, k) = (3, 4) y 'p' = 0.125, podemos calcular la directriz:\n",
        "Para una parábola que se abre hacia arriba, la directriz es la línea h\n",
        "\n",
        "***5. Longitud del lado recto:***\n",
        "La longitud del lado recto de una parábola es una medida de la distancia entre el vértice y el punto de intersección de la parábola con una línea perpendicular al eje de simetría. La longitud del lado recto se calcula como 1 / |a|, donde 'a' es el coeficiente que multiplica al término cuadrático en la ecuación de la parábola.\n",
        "\n",
        "Ejemplo:\n",
        "Utilizando la misma ecuación de la parábola del ejemplo anterior, donde a = 2, la longitud del lado recto es 1 / |2| = 1/2.\n",
        "\n",
        "Estos son algunos cálculos y conceptos básicos relacionados con las parábolas.\n"
      ],
      "metadata": {
        "id": "1PMpwGko29rT"
      }
    },
    {
      "cell_type": "code",
      "source": [
        "import math\n",
        "\n",
        "# Solicitar los datos necesarios al usuario\n",
        "a = float(input(\"Ingrese el valor de 'a': \"))\n",
        "h = float(input(\"Ingrese el valor de 'h': \"))\n",
        "k = float(input(\"Ingrese el valor de 'k': \"))\n",
        "\n",
        "# Calcular las coordenadas del vértice\n",
        "vertex = (h, k)\n",
        "\n",
        "# Calcular el eje de simetría\n",
        "axis_symmetry = h\n",
        "\n",
        "# Calcular la distancia focal\n",
        "p = 1 / (4 * a)\n",
        "if a > 0:\n",
        "    focus = (h, k + p)\n",
        "else:\n",
        "    focus = (h, k - p)\n",
        "\n",
        "# Calcular la directriz\n",
        "if a > 0:\n",
        "    directrix = k - p\n",
        "else:\n",
        "    directrix = k + p\n",
        "\n",
        "# Calcular la longitud del lado recto\n",
        "side_length = 1 / abs(a)\n",
        "\n",
        "# Imprimir los resultados\n",
        "print(\"Coordenadas del vértice:\", vertex)\n",
        "print(\"Eje de simetría:\", axis_symmetry)\n",
        "print(\"Foco:\", focus)\n",
        "print(\"Directriz:\", directrix)\n",
        "print(\"Longitud del lado recto:\", side_length)\n"
      ],
      "metadata": {
        "colab": {
          "base_uri": "https://localhost:8080/"
        },
        "id": "Br0B9fFK4KvZ",
        "outputId": "84481a8d-d197-415a-de8d-d23fde6740ee"
      },
      "execution_count": 6,
      "outputs": [
        {
          "output_type": "stream",
          "name": "stdout",
          "text": [
            "Ingrese el valor de 'a': 7\n",
            "Ingrese el valor de 'h': 3\n",
            "Ingrese el valor de 'k': 2\n",
            "Coordenadas del vértice: (3.0, 2.0)\n",
            "Eje de simetría: 3.0\n",
            "Foco: (3.0, 2.0357142857142856)\n",
            "Directriz: 1.9642857142857142\n",
            "Longitud del lado recto: 0.14285714285714285\n"
          ]
        }
      ]
    },
    {
      "cell_type": "code",
      "source": [
        "import numpy as np\n",
        "import matplotlib.pyplot as plt\n",
        "\n",
        "# Parámetros de la parábola\n",
        "a = 1  # Coeficiente cuadrático\n",
        "b = 0  # Coeficiente lineal\n",
        "c = 0  # Término independiente\n",
        "\n",
        "# Rango de valores de x\n",
        "x = np.linspace(-10, 10, 100)\n",
        "\n",
        "# Calcular los valores correspondientes de y\n",
        "y = a * x**2 + b * x + c\n",
        "\n",
        "# Graficar la parábola\n",
        "plt.figure()\n",
        "plt.plot(x, y)\n",
        "plt.xlabel('Eje X')\n",
        "plt.ylabel('Eje Y')\n",
        "plt.title('Parábola')\n",
        "plt.grid(True)\n",
        "plt.show()\n"
      ],
      "metadata": {
        "colab": {
          "base_uri": "https://localhost:8080/",
          "height": 472
        },
        "id": "U_gFvkMH6DW9",
        "outputId": "27f09d3e-6781-4904-fce5-6e74c2d778b5"
      },
      "execution_count": null,
      "outputs": [
        {
          "output_type": "display_data",
          "data": {
            "text/plain": [
              "<Figure size 640x480 with 1 Axes>"
            ],
            "image/png": "[encoded data removed]"
          },
          "metadata": {}
        }
      ]
    },
    {
      "cell_type": "markdown",
      "source": [
        "##**Círculo**\n",
        "Es una figura geométrica en el plano que consiste en todos los puntos equidistantes de un punto fijo llamado centro. La distancia constante entre el centro y cualquier punto del círculo se llama radio.\n",
        "\n",
        "La ecuación general de un círculo en el plano cartesiano es de la forma $(x - h)^2 + (y - k)^2 = r^2$, donde (h, k) representa las coordenadas del centro del círculo y r es el radio."
      ],
      "metadata": {
        "id": "VL0UyWzD6Tqt"
      }
    },
    {
      "cell_type": "markdown",
      "source": [
        "Como calcular: \n",
        "***1. Coordenadas del centro del círculo:***\n",
        "En un círculo, las coordenadas del centro se denotan como (h, k) y pueden ser proporcionadas directamente si se conocen, o se pueden calcular si se tienen otros datos, como el punto en el que el círculo intersecta con una recta.\n",
        "\n",
        "***2. Radio del círculo:***\n",
        "El radio del círculo se representa por la letra 'r' y se calcula utilizando la fórmula de la distancia entre dos puntos. Si se conocen las coordenadas del centro del círculo (h, k) y las coordenadas de cualquier punto en el círculo (x, y), el radio se puede calcular de la siguiente manera: $r = \\sqrt{(x-h)^2 + (y-k)^2}$\n",
        "\n",
        "***3. Diámetro del círculo:***\n",
        "El diámetro de un círculo es el doble del radio, por lo que se calcula mediante la fórmula: $d = 2r$, donde 'd' representa el diámetro.\n",
        "*italicized text*\n",
        "***4. Circunferencia del círculo:***\n",
        "La circunferencia de un círculo se calcula utilizando la fórmula: $C = 2\\pi r$, donde 'C' representa la circunferencia y 'r' es el radio del círculo. También se puede calcular utilizando el diámetro: $C = \\pi d$.\n",
        "\n",
        "***5. Área del círculo:***\n",
        "El área de un círculo se calcula utilizando la fórmula: $A = \\pi r^2$, donde 'A' representa el área y 'r' es el radio del círculo.\n",
        "\n",
        "***6. Relación entre la circunferencia y el área:***\n",
        "La circunferencia y el área de un círculo están relacionadas mediante la constante pi (π). La circunferencia es igual a la longitud total de la frontera del círculo, mientras que el área es el espacio contenido dentro del círculo.\n",
        "\n",
        "***7. Cálculo de puntos en la circunferencia:***\n",
        "Para calcular puntos en la circunferencia, se puede utilizar la ecuación general del círculo: $(x-h)^2 + (y-k)^2 = r^2$. Dado un valor de 'x' conocido, se puede despejar 'y' o viceversa para obtener las coordenadas correspondientes en la circunferencia.\n",
        "\n",
        "Estos son los principales aspectos a considerar al calcular propiedades de un círculo."
      ],
      "metadata": {
        "id": "r_DHFXP-5bTl"
      }
    },
    {
      "cell_type": "code",
      "source": [
        "import math\n",
        "\n",
        "# Solicitar al usuario ingresar el radio del círculo\n",
        "radio = float(input(\"Ingrese el radio del círculo: \"))\n",
        "\n",
        "# Calcular las propiedades del círculo\n",
        "area = math.pi * radio**2\n",
        "circunferencia = 2 * math.pi * radio\n",
        "\n",
        "# Imprimir los resultados\n",
        "print(\"Propiedades del círculo:\")\n",
        "print(\"Radio:\", radio)\n",
        "print(\"Área:\", area)\n",
        "print(\"Circunferencia:\", circunferencia)\n"
      ],
      "metadata": {
        "colab": {
          "base_uri": "https://localhost:8080/"
        },
        "id": "TXvXcJbc59kO",
        "outputId": "019cfc4d-d496-459a-f919-2954a273db47"
      },
      "execution_count": 7,
      "outputs": [
        {
          "output_type": "stream",
          "name": "stdout",
          "text": [
            "Ingrese el radio del círculo: 3\n",
            "Propiedades del círculo:\n",
            "Radio: 3.0\n",
            "Área: 28.274333882308138\n",
            "Circunferencia: 18.84955592153876\n"
          ]
        }
      ]
    },
    {
      "cell_type": "code",
      "source": [
        "import numpy as np\n",
        "import matplotlib.pyplot as plt\n",
        "\n",
        "# Parámetros del círculo\n",
        "center = (2, 3)  # Centro del círculo\n",
        "radius = 5  # Radio del círculo\n",
        "\n",
        "# Generar puntos en el círculo\n",
        "theta = np.linspace(0, 2*np.pi, 100)\n",
        "x = center[0] + radius * np.cos(theta)\n",
        "y = center[1] + radius * np.sin(theta)\n",
        "\n",
        "# Graficar el círculo\n",
        "plt.figure()\n",
        "plt.plot(x, y)\n",
        "plt.axis('equal')\n",
        "plt.xlabel('Eje X')\n",
        "plt.ylabel('Eje Y')\n",
        "plt.title('Círculo')\n",
        "plt.grid(True)\n",
        "plt.show()\n"
      ],
      "metadata": {
        "colab": {
          "base_uri": "https://localhost:8080/",
          "height": 472
        },
        "id": "kh9dOH4v6RB9",
        "outputId": "83497110-59f5-4a70-93ab-b79530666301"
      },
      "execution_count": null,
      "outputs": [
        {
          "output_type": "display_data",
          "data": {
            "text/plain": [
              "<Figure size 640x480 with 1 Axes>"
            ],
            "image/png": "[encoded data removed]"
          },
          "metadata": {}
        }
      ]
    },
    {
      "cell_type": "markdown",
      "source": [
        "#TRANSFORMACIONES LINEALES Y VECTORES PROPIOS\n",
        "Las transformaciones lineales son funciones matemáticas que preservan la estructura lineal de los espacios vectoriales. Es decir, toman un vector como entrada y producen otro vector como salida, manteniendo las propiedades de linealidad como la suma y la multiplicación por escalar.\n",
        "\n",
        "Una transformación lineal, denotada como T, se define como:\n",
        "\n",
        "$T(u + v) = T(u) + T(v)$ (para cualquier u y v en el dominio de T)\n",
        "\n",
        "$T(cu) = cT(u)$ (para cualquier escalar c y cualquier u en el dominio de T)\n",
        "\n",
        "Estas dos propiedades aseguran que la transformación lineal preserve la suma vectorial y la multiplicación escalar.\n",
        "\n",
        "Las transformaciones lineales se pueden representar mediante matrices. Dado un espacio vectorial de entrada V y un espacio vectorial de salida W, una transformación lineal $T: V -> W$ se puede representar mediante una matriz A. Cada columna de la matriz A corresponde a la imagen de una base del espacio vectorial de entrada.\n",
        "\n",
        "Algunas propiedades importantes de las transformaciones lineales incluyen:\n",
        "\n",
        "1. Preservación de la suma: T(u + v) = T(u) + T(v)\n",
        "2. Preservación de la multiplicación escalar: T(cu) = cT(u)\n",
        "3. Imagen del vector nulo: T(0) = 0\n",
        "4. Inyectividad: Si T(u) = T(v), entonces u = v (la transformación es uno a uno)\n",
        "5. Sobreyectividad: Para cada vector w en el espacio de salida W, existe al menos un vector u en el espacio de entrada V tal que T(u) = w.\n",
        "6. Preservación de la combinación lineal: T(c1u1 + c2u2 + ... + cnun) = c1T(u1) + c2T(u2) + ... + cnT(un)\n",
        "Ejemplo de una transformación lineal:\n",
        "\n",
        "Consideremos la transformación lineal T: R^2 -> R^2 definida por T(x, y) = (2x, y - x). Esta transformación toma un vector (x, y) como entrada y produce un vector (2x, y - x) como salida.\n",
        "\n",
        "La representación matricial de esta transformación es:\n",
        "\n",
        "\\begin{bmatrix}2&0\\\\-1&1\\end{bmatrix}\n",
        "\n",
        "Podemos aplicar esta transformación a un vector de entrada, por ejemplo, (1, 3):\n",
        "\n",
        "T(1, 3) = (2(1), 3 - 1) = (2, 2)\n",
        "\n",
        "Así, el vector (1, 3) se transforma en el vector (2, 2) bajo la transformación lineal T."
      ],
      "metadata": {
        "id": "UbFwpvbU7OnM"
      }
    },
    {
      "cell_type": "markdown",
      "source": [
        "##**La representación matricial** \n",
        "De una transformación lineal es una forma de expresar dicha transformación utilizando una matriz. Esta representación es útil ya que permite realizar cálculos y manipulaciones algebraicas de manera más eficiente.\n",
        "\n",
        "La matriz de una transformación lineal se construye utilizando las imágenes de los vectores de una base del espacio vectorial de entrada. Cada columna de la matriz representa la imagen de un vector de la base.\n",
        "\n",
        "Supongamos que tenemos una transformación lineal T: V -> W, donde V es el espacio vectorial de entrada y W es el espacio vectorial de salida. Si {v1, v2, ..., vn} es una base de V, y {w1, w2, ..., wm} es una base de W, entonces la representación matricial de T se obtiene al escribir las coordenadas de las imágenes de los vectores de la base de V en términos de la base de W. Estas coordenadas se organizan en una matriz, donde cada columna representa las coordenadas de una imagen.\n",
        "\n",
        "Algunas propiedades de la representación matricial de una transformación lineal son:\n",
        "\n",
        "1. La composición de transformaciones lineales corresponde a la multiplicación de matrices. Si T: V -> W y S: U -> V son dos transformaciones lineales, entonces la transformación compuesta (T o S): U -> W se representa mediante la multiplicación de las matrices de T y S.\n",
        "\n",
        "2. La inversa de una transformación lineal corresponde a la inversa de la matriz. Si T: V -> W es una transformación lineal invertible, entonces su inversa T^(-1): W -> V se representa mediante la inversa de la matriz de T.\n",
        "\n",
        "3. La matriz de una transformación lineal preserva las propiedades algebraicas. La suma de transformaciones lineales corresponde a la suma de las matrices correspondientes. La multiplicación por un escalar de una transformación lineal corresponde a la multiplicación de la matriz por ese escalar.\n",
        "\n",
        "Estas propiedades permiten realizar operaciones algebraicas sobre las matrices de transformaciones lineales, lo que simplifica el análisis y cálculo de las mismas. Además, la representación matricial facilita el uso de herramientas matemáticas y computacionales para resolver sistemas de ecuaciones, calcular la composición de transformaciones y encontrar transformaciones inversas, entre otros."
      ],
      "metadata": {
        "id": "a-zJvTfB9oOo"
      }
    },
    {
      "cell_type": "code",
      "source": [
        "import numpy as np\n",
        "\n",
        "# Definición de la transformación lineal T: R^2 -> R^3\n",
        "# T(x, y) = (2x + y, x - 3y, 4x + 2y)\n",
        "\n",
        "# Definición de la matriz de la transformación T\n",
        "T_matrix = np.array([[2, 1], [1, -3], [4, 2]])\n",
        "\n",
        "# Vector de entrada\n",
        "v = np.array([1, 2])\n",
        "\n",
        "# Aplicar la transformación lineal\n",
        "result = np.dot(T_matrix, v)\n",
        "\n",
        "print(\"Resultado de la transformación lineal:\")\n",
        "print(result)\n"
      ],
      "metadata": {
        "colab": {
          "base_uri": "https://localhost:8080/"
        },
        "id": "A1YuMMC397Oc",
        "outputId": "274a40fa-cfb6-4099-c975-f2beca919eeb"
      },
      "execution_count": null,
      "outputs": [
        {
          "output_type": "stream",
          "name": "stdout",
          "text": [
            "Resultado de la transformación lineal:\n",
            "[ 4 -5  8]\n"
          ]
        }
      ]
    },
    {
      "cell_type": "markdown",
      "source": [
        "##**Núcleo e imagen**\n",
        "El núcleo y la imagen son conceptos fundamentales en el álgebra lineal que están relacionados con las transformaciones lineales y las matrices.\n",
        "\n",
        "El núcleo de una transformación lineal T: V -> W es el conjunto de todos los vectores en V que se mapean al vector cero en W. En otras palabras, es el conjunto de vectores en V que son transformados por T en el vector cero. Se denota como Ker(T) o Null(T).\n",
        "\n",
        "La imagen de una transformación lineal T: V -> W es el conjunto de todos los vectores en W que son el resultado de aplicar la transformación T a algún vector en V. Es el conjunto de todas las posibles salidas de la transformación. Se denota como Im(T) o Range(T).\n",
        "\n",
        "La dimensión del núcleo de una transformación lineal está relacionada con la cantidad de soluciones triviales y no triviales de la ecuación homogénea T(x) = 0. La dimensión de la imagen de una transformación lineal está relacionada con la cantidad de vectores linealmente independientes en el rango de la transformación."
      ],
      "metadata": {
        "id": "yRBaH9n8-LDp"
      }
    },
    {
      "cell_type": "code",
      "source": [
        "import numpy as np\n",
        "\n",
        "# Definición de la matriz de la transformación lineal\n",
        "T_matrix = np.array([[1, 2, -1], [3, 1, 0]])\n",
        "\n",
        "# Calcular el núcleo utilizando la descomposición en valores singulares (SVD)\n",
        "U, S, V = np.linalg.svd(T_matrix)\n",
        "null_space = V.T[:, np.where(S < 1e-10)[0]]\n",
        "\n",
        "print(\"Núcleo (Null Space):\")\n",
        "print(null_space)\n",
        "\n",
        "# Calcular la imagen utilizando la matriz de la transformación\n",
        "image = np.dot(T_matrix, np.eye(T_matrix.shape[1]))\n",
        "\n",
        "print(\"Imagen (Image):\")\n",
        "print(image)\n"
      ],
      "metadata": {
        "colab": {
          "base_uri": "https://localhost:8080/"
        },
        "id": "ARJjIkcP-VPY",
        "outputId": "9222a110-5370-432b-e7ba-1357a980cbc2"
      },
      "execution_count": null,
      "outputs": [
        {
          "output_type": "stream",
          "name": "stdout",
          "text": [
            "Núcleo (Null Space):\n",
            "[]\n",
            "Imagen (Image):\n",
            "[[ 1.  2. -1.]\n",
            " [ 3.  1.  0.]]\n"
          ]
        }
      ]
    },
    {
      "cell_type": "markdown",
      "source": [
        "##**Matrices de transformaciones lineales generales**\n",
        "Las matrices de transformaciones lineales generales son matrices que representan transformaciones lineales entre espacios vectoriales de cualquier dimensión.\n",
        "\n",
        "En general, una matriz de transformación lineal A es una matriz de tamaño m x n, donde m es la dimensión del espacio de llegada (rango) y n es la dimensión del espacio de partida (dominio). Cada columna de la matriz representa la imagen de un vector base del espacio de partida en el espacio de llegada.\n",
        "\n",
        "La aplicación de una matriz de transformación lineal a un vector se realiza multiplicando la matriz por el vector. Si tenemos un vector v de dimensión n, el resultado de aplicar la transformación lineal representada por la matriz A al vector v se obtiene mediante el producto matricial Av.\n"
      ],
      "metadata": {
        "id": "D-0IDwxO-z-y"
      }
    },
    {
      "cell_type": "code",
      "source": [
        "import numpy as np\n",
        "\n",
        "# Definición de la matriz de transformación lineal A\n",
        "A = np.array([[1, 2, 3], [4, 5, 6]])\n",
        "\n",
        "# Vector de entrada\n",
        "v = np.array([1, 2, 3])\n",
        "\n",
        "# Aplicar la transformación lineal\n",
        "result = np.dot(A, v)\n",
        "\n",
        "print(\"Resultado de la transformación lineal:\")\n",
        "print(result)\n"
      ],
      "metadata": {
        "colab": {
          "base_uri": "https://localhost:8080/"
        },
        "id": "o3j-AR3o--j8",
        "outputId": "fe24c380-31cc-41fb-97d4-31e92b6d77f8"
      },
      "execution_count": null,
      "outputs": [
        {
          "output_type": "stream",
          "name": "stdout",
          "text": [
            "Resultado de la transformación lineal:\n",
            "[14 32]\n"
          ]
        }
      ]
    },
    {
      "cell_type": "markdown",
      "source": [
        "Las transformaciones lineales tienen diversas aplicaciones en diferentes campos de estudio. Algunas de las aplicaciones más comunes son:\n",
        "\n",
        "Gráficos por computadora: Las transformaciones lineales se utilizan para realizar rotaciones, escalados, traslaciones y otras transformaciones geométricas en imágenes y objetos en entornos virtuales.\n",
        "\n",
        "Análisis de datos: En el análisis de datos, las transformaciones lineales se utilizan para reducir la dimensionalidad de conjuntos de datos, como en el análisis de componentes principales (PCA) y en técnicas de reducción de dimensionalidad similares.\n",
        "\n",
        "Criptografía: En criptografía, las transformaciones lineales se utilizan para cifrar y descifrar datos utilizando algoritmos como el cifrado de Hill y otras técnicas de cifrado basadas en álgebra lineal.\n",
        "\n",
        "Ingeniería de control: En la ingeniería de control, las transformaciones lineales se utilizan para modelar sistemas dinámicos y analizar su comportamiento. Las transformaciones lineales también se aplican para diseñar controladores y estabilizar sistemas.\n",
        "\n",
        "Procesamiento de señales: En el procesamiento de señales, las transformaciones lineales, como la transformada de Fourier y la transformada discreta de coseno, se utilizan para analizar y manipular señales en dominios frecuenciales.\n",
        "\n",
        "Física y matemáticas: Las transformaciones lineales son fundamentales en física y matemáticas para describir y analizar fenómenos físicos y propiedades matemáticas. Se utilizan en áreas como álgebra lineal, geometría, mecánica cuántica, teoría de la relatividad y muchas otras ramas de la ciencia y las matemáticas."
      ],
      "metadata": {
        "id": "ZqsIH4Da_mD5"
      }
    },
    {
      "cell_type": "markdown",
      "source": [
        "##**Matrices particionadas**\n",
        "Las matrices particionadas son matrices que se dividen o se organizan en bloques o submatrices más pequeñas. Estas submatrices pueden representar componentes o secciones específicas de la matriz original, y la partición permite una representación más estructurada y organizada de la información contenida en la matriz.\n",
        "\n",
        "Formalmente, una matriz particionada es una matriz que se divide en bloques o submatrices más pequeñas. Puede haber diferentes formas de particionar una matriz, dependiendo de las necesidades y la estructura de los datos. Algunas formas comunes de particionar una matriz son:\n",
        "\n",
        "1. Partición horizontal: La matriz se divide en filas horizontales. Cada bloque representa una sección de filas contiguas.\n",
        "\n",
        "2. Partición vertical: La matriz se divide en columnas verticales. Cada bloque representa una sección de columnas contiguas.\n",
        "\n",
        "3. Partición en bloques: La matriz se divide en bloques rectangulares más grandes, que pueden contener múltiples filas y columnas.\n",
        "\n",
        "Las matrices particionadas tienen varias propiedades y ventajas:\n",
        "\n",
        "1. Facilitan el análisis y la manipulación de matrices grandes y complejas al dividirlas en submatrices más pequeñas y manejables.\n",
        "\n",
        "2. Permiten una representación más estructurada de los datos al organizar la información en bloques o secciones relacionadas.\n",
        "\n",
        "3. Facilitan la realización de operaciones matriciales específicas en submatrices individuales sin afectar el resto de la matriz.\n",
        "\n",
        "4. Pueden ayudar a simplificar cálculos y reducir la complejidad de algoritmos al tratar con matrices particionadas en lugar de matrices completas."
      ],
      "metadata": {
        "id": "SWV-4RScAln4"
      }
    },
    {
      "cell_type": "code",
      "source": [
        "import numpy as np\n",
        "# Definir una matriz de ejemplo\n",
        "matriz = np.array([[1, 2, 3, 4],\n",
        "[5, 6, 7, 8],\n",
        "[9, 10, 11, 12]])\n",
        "# Particionar la matriz en submatrices\n",
        "submatriz1 = matriz[:, :2] # Primeras dos columnas\n",
        "submatriz2 = matriz[:, 2:] # Últimas dos columnas\n",
        "# Imprimir las submatrices\n",
        "print(\"Submatriz 1:\")\n",
        "print(submatriz1)\n",
        "print(\"\\nSubmatriz 2:\")\n",
        "print(submatriz2)"
      ],
      "metadata": {
        "colab": {
          "base_uri": "https://localhost:8080/"
        },
        "id": "qALK47fSBBSN",
        "outputId": "7f8cb4ef-7331-423e-a7e0-758c1f4c436f"
      },
      "execution_count": null,
      "outputs": [
        {
          "output_type": "stream",
          "name": "stdout",
          "text": [
            "Submatriz 1:\n",
            "[[ 1  2]\n",
            " [ 5  6]\n",
            " [ 9 10]]\n",
            "\n",
            "Submatriz 2:\n",
            "[[ 3  4]\n",
            " [ 7  8]\n",
            " [11 12]]\n"
          ]
        }
      ]
    },
    {
      "cell_type": "markdown",
      "source": [
        "##**Vectores y valores propios**\n",
        "Los vectores propios y valores propios son conceptos importantes en el álgebra lineal que están relacionados con las transformaciones lineales y las matrices.\n",
        "\n",
        "Un vector propio de una matriz es un vector no nulo que, cuando se aplica la matriz, solo se escala por un factor constante, conocido como valor propio. En otras palabras, si v es un vector propio de una matriz A, entonces $A·v = λ·v$, donde λ es el valor propio correspondiente.\n",
        "\n",
        "El polinomio característico de una matriz A es un polinomio cuyas raíces son los valores propios de A. Se puede obtener calculando el determinante de la matriz A - λI, donde I es la matriz identidad y λ es una variable. El polinomio característico está dado por $p(λ) = det(A - λI)$.\n",
        "\n",
        "La ecuación característica es una ecuación obtenida al igualar el polinomio característico a cero, es decir, p(λ) = 0. Las soluciones de esta ecuación son los valores propios de la matriz."
      ],
      "metadata": {
        "id": "KhdyIUOFBY1O"
      }
    },
    {
      "cell_type": "code",
      "source": [
        "import numpy as np\n",
        "\n",
        "# Definir una matriz de ejemplo\n",
        "A = np.array([[3, 1], [1, 2]])\n",
        "\n",
        "# Calcular los valores y vectores propios\n",
        "eigenvalues, eigenvectors = np.linalg.eig(A)\n",
        "\n",
        "# Imprimir los valores propios\n",
        "print(\"Valores propios:\")\n",
        "for eigenvalue in eigenvalues:\n",
        "    print(eigenvalue)\n",
        "\n",
        "# Imprimir los vectores propios\n",
        "print(\"Vectores propios:\")\n",
        "for i in range(len(eigenvectors)):\n",
        "    print(\"Vector propio\", i+1, \":\", eigenvectors[:, i])\n",
        "\n",
        "# Calcular el polinomio característico\n",
        "polynomial = np.poly(A)\n",
        "print(\"Polinomio característico:\", polynomial)\n"
      ],
      "metadata": {
        "colab": {
          "base_uri": "https://localhost:8080/"
        },
        "id": "tas54xNnBvBp",
        "outputId": "550ccc1b-83b1-46fc-d45f-6910237b131b"
      },
      "execution_count": null,
      "outputs": [
        {
          "output_type": "stream",
          "name": "stdout",
          "text": [
            "Valores propios:\n",
            "3.618033988749895\n",
            "1.381966011250105\n",
            "Vectores propios:\n",
            "Vector propio 1 : [0.85065081 0.52573111]\n",
            "Vector propio 2 : [-0.52573111  0.85065081]\n",
            "Polinomio característico: [ 1. -5.  5.]\n"
          ]
        }
      ]
    },
    {
      "cell_type": "markdown",
      "source": [
        "##**Teorema de Cayley - Hamilton**\n",
        "El teorema de Cayley-Hamilton establece que toda matriz cuadrada satisface su propio polinomio característico. En otras palabras, si A es una matriz cuadrada de orden n y p(λ) es el polinomio característico de A, entonces al evaluar p(A) se obtiene la matriz cero de orden n.\n",
        "\n",
        "Matemáticamente, el teorema de Cayley-Hamilton se expresa de la siguiente manera:\n",
        "p(A) = 0\n",
        "\n",
        "Donde p(A) representa la evaluación del polinomio característico de A en la matriz A, y 0 es la matriz cero del mismo orden que A.\n",
        "\n",
        "Este teorema es una consecuencia importante de las propiedades algebraicas de las matrices y tiene diversas aplicaciones en el estudio de sistemas lineales y matrices. Permite relacionar los valores propios, los vectores propios y el polinomio característico de una matriz con su comportamiento algebraico y estructural.\n",
        "\n",
        "El teorema de Cayley-Hamilton puede ser demostrado utilizando técnicas algebraicas avanzadas y propiedades de las matrices. Su importancia radica en que proporciona un método para calcular potencias de una matriz mediante la sustitución del polinomio característico. Además, establece una relación fundamental entre las propiedades algebraicas y las propiedades estructurales de las matrices."
      ],
      "metadata": {
        "id": "YMSf5kQWB-h5"
      }
    },
    {
      "cell_type": "code",
      "source": [
        "import numpy as np\n",
        "\n",
        "# Definir una matriz de ejemplo\n",
        "A = np.array([[2, 1], [1, 3]])\n",
        "\n",
        "# Calcular el polinomio característico de A\n",
        "polynomial = np.poly(A)\n",
        "print(\"Polinomio característico:\", polynomial)\n",
        "\n",
        "# Evaluar el polinomio característico en A\n",
        "p_A = np.polyval(polynomial, A)\n",
        "print(\"Evaluación del polinomio característico en A:\")\n",
        "print(p_A)\n"
      ],
      "metadata": {
        "colab": {
          "base_uri": "https://localhost:8080/"
        },
        "id": "HgKNqkjDCK3C",
        "outputId": "ff88f072-b330-4ca1-90fb-8e0c85839993"
      },
      "execution_count": null,
      "outputs": [
        {
          "output_type": "stream",
          "name": "stdout",
          "text": [
            "Polinomio característico: [ 1. -5.  5.]\n",
            "Evaluación del polinomio característico en A:\n",
            "[[-1.  1.]\n",
            " [ 1. -1.]]\n"
          ]
        }
      ]
    },
    {
      "cell_type": "markdown",
      "source": [
        "##**Diagonalización de una matriz**\n",
        "La diagonalización de una matriz es un proceso mediante el cual se descompone una matriz cuadrada en una forma más simple, donde la matriz resultante es diagonal. Esto implica encontrar una matriz de cambio de base y una matriz diagonal tal que al multiplicarlas se obtenga la matriz original.\n",
        "\n",
        "Formalmente, una matriz A es diagonalizable si existe una matriz invertible P y una matriz diagonal D tal que:\n",
        "\n",
        "$A = PDP^(-1)$\n",
        "\n",
        "Donde P contiene los vectores propios de A como columnas y D contiene los valores propios correspondientes en la diagonal.\n",
        "\n",
        "La diagonalización de matrices tiene diversas aplicaciones en álgebra lineal y en otros campos de las matemáticas y la ciencia. Permite simplificar el cálculo y análisis de sistemas lineales, encontrar soluciones a ecuaciones diferenciales y entender la estructura y comportamiento de una matriz.\n",
        "\n",
        "El proceso de diagonalización implica los siguientes pasos:\n",
        "\n",
        "1. Calcular los valores propios de la matriz A.\n",
        "2. Para cada valor propio, encontrar los vectores propios correspondientes.\n",
        "3. Construir la matriz P con los vectores propios como columnas.\n",
        "4. Construir la matriz D con los valores propios en la diagonal.\n",
        "5. Verificar que la matriz A se puede expresar como A = PDP^(-1)."
      ],
      "metadata": {
        "id": "iiAjtJI1Chl2"
      }
    },
    {
      "cell_type": "code",
      "source": [
        "import numpy as np\n",
        "\n",
        "# Definir la matriz de ejemplo\n",
        "A = np.array([[2, 1], [1, 3]])\n",
        "\n",
        "# Calcular los valores y vectores propios\n",
        "eigenvalues, eigenvectors = np.linalg.eig(A)\n",
        "\n",
        "# Construir la matriz P con los vectores propios como columnas\n",
        "P = eigenvectors\n",
        "\n",
        "# Construir la matriz D con los valores propios en la diagonal\n",
        "D = np.diag(eigenvalues)\n",
        "\n",
        "# Verificar que A = PDP^(-1)\n",
        "reconstructed_A = np.dot(np.dot(P, D), np.linalg.inv(P))\n",
        "\n",
        "# Imprimir los resultados\n",
        "print(\"Matriz A:\")\n",
        "print(A)\n",
        "print(\"Matriz P:\")\n",
        "print(P)\n",
        "print(\"Matriz D:\")\n",
        "print(D)\n",
        "print(\"Reconstrucción de A:\")\n",
        "print(reconstructed_A)\n"
      ],
      "metadata": {
        "colab": {
          "base_uri": "https://localhost:8080/"
        },
        "id": "0IjkrZGBDAW3",
        "outputId": "e8d31b17-7d0b-4f1a-a433-1648c5db1434"
      },
      "execution_count": null,
      "outputs": [
        {
          "output_type": "stream",
          "name": "stdout",
          "text": [
            "Matriz A:\n",
            "[[2 1]\n",
            " [1 3]]\n",
            "Matriz P:\n",
            "[[-0.85065081 -0.52573111]\n",
            " [ 0.52573111 -0.85065081]]\n",
            "Matriz D:\n",
            "[[1.38196601 0.        ]\n",
            " [0.         3.61803399]]\n",
            "Reconstrucción de A:\n",
            "[[2. 1.]\n",
            " [1. 3.]]\n"
          ]
        }
      ]
    }
  ]
}